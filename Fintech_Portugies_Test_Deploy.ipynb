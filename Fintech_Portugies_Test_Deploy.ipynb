{
  "nbformat": 4,
  "nbformat_minor": 0,
  "metadata": {
    "colab": {
      "name": "Fintech_Portugies - Test Deploy.ipynb",
      "provenance": [],
      "authorship_tag": "ABX9TyOOFI8VsXYu0zDVnZ+u0Je5",
      "include_colab_link": true
    },
    "kernelspec": {
      "name": "python3",
      "display_name": "Python 3"
    },
    "language_info": {
      "name": "python"
    }
  },
  "cells": [
    {
      "cell_type": "markdown",
      "metadata": {
        "id": "view-in-github",
        "colab_type": "text"
      },
      "source": [
        "<a href=\"https://colab.research.google.com/github/gigihsantoso/prediksi-berlangganan-deposito-berjangka-deeplearning/blob/main/Fintech_Portugies_Test_Deploy.ipynb\" target=\"_parent\"><img src=\"https://colab.research.google.com/assets/colab-badge.svg\" alt=\"Open In Colab\"/></a>"
      ]
    },
    {
      "cell_type": "code",
      "execution_count": 1,
      "metadata": {
        "id": "28wmx0NA9drS"
      },
      "outputs": [],
      "source": [
        "import requests \n",
        "import json \n",
        "import numpy as np\n",
        "import tensorflow as tf"
      ]
    },
    {
      "cell_type": "code",
      "source": [
        "sample = {\n",
        "    \"signature_name\": \"serving_default\", \n",
        "    \"instances\":[\n",
        "        {\n",
        "            \"age\": [51],\n",
        "            \"job\": [\"retired\"],\n",
        "            \"marital\": [\"divorced\"],\n",
        "            \"education\": [\"secondary\"],\n",
        "            \"balance\": [1679],\n",
        "            \"housing\": [\"no\"],\n",
        "            \"loan\": [\"no\"],\n",
        "            \"default\": [\"no\"],\n",
        "            \"campaign\": [1]\n",
        "        }\n",
        "    ]\n",
        "   \n",
        "}\n",
        "data = json.dumps(sample)\n",
        "headers = {\"content-type\": \"application/json\"}\n",
        "\n",
        "json_response = requests.post('http://ts-gigih.herokuapp.com/v1/models/model:predict', data=data)\n",
        "print(json_response.text)"
      ],
      "metadata": {
        "colab": {
          "base_uri": "https://localhost:8080/"
        },
        "id": "6TvyT9n39fW-",
        "outputId": "62a61229-203f-4f05-983c-523cd4f9b793"
      },
      "execution_count": 2,
      "outputs": [
        {
          "output_type": "stream",
          "name": "stdout",
          "text": [
            "{\n",
            "    \"predictions\": [[0.000782966614]\n",
            "    ]\n",
            "}\n"
          ]
        }
      ]
    }
  ]
}