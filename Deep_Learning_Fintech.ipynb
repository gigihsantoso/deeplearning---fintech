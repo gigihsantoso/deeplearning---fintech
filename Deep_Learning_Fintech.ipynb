{
  "nbformat": 4,
  "nbformat_minor": 0,
  "metadata": {
    "colab": {
      "name": "Deep Learning - Fintech.ipynb",
      "provenance": [],
      "collapsed_sections": [],
      "authorship_tag": "ABX9TyMgRUTvqHeepCweVXwhj6eU",
      "include_colab_link": true
    },
    "kernelspec": {
      "name": "python3",
      "display_name": "Python 3"
    },
    "language_info": {
      "name": "python"
    },
    "accelerator": "GPU",
    "gpuClass": "standard"
  },
  "cells": [
    {
      "cell_type": "markdown",
      "metadata": {
        "id": "view-in-github",
        "colab_type": "text"
      },
      "source": [
        "<a href=\"https://colab.research.google.com/github/gigihsantoso/prediksi-berlangganan-deposito-berjangka-deeplearning/blob/main/Deep_Learning_Fintech.ipynb\" target=\"_parent\"><img src=\"https://colab.research.google.com/assets/colab-badge.svg\" alt=\"Open In Colab\"/></a>"
      ]
    },
    {
      "cell_type": "markdown",
      "source": [
        "#Fintech\n",
        "\n",
        "\"Data tersebut terkait dengan kampanye pemasaran langsung dari lembaga perbankan Portugis. Kampanye pemasaran didasarkan pada panggilan telepon. Seringkali, lebih dari satu kontak ke klien yang sama diperlukan, untuk mengakses apakah produk (deposito berjangka bank) akan ('ya') atau tidak ('tidak') dilanggan oleh pelanggan atau tidak. Folder data berisi dua kumpulan data: -\n",
        "\n",
        "     train.csv: 45.211 baris dan 18 kolom diurutkan berdasarkan tanggal (dari Mei 2008 hingga November 2010)\n",
        "     test.csv: 4521 baris dan 18 kolom dengan 10% contoh (4521), dipilih secara acak dari train.csv\""
      ],
      "metadata": {
        "id": "hDbYMQhe0P1A"
      }
    },
    {
      "cell_type": "markdown",
      "source": [
        "##Setup"
      ],
      "metadata": {
        "id": "FVjSsPfn0VTS"
      }
    },
    {
      "cell_type": "code",
      "source": [
        "import pathlib\n",
        "import tensorflow as tf\n",
        "import zipfile\n",
        "import os\n",
        "import matplotlib.pyplot as plt\n",
        "import pandas as pd\n",
        "import numpy as np\n",
        "import seaborn as sns\n",
        "from google.colab import drive\n",
        "from google.colab import data_table\n",
        "import tensorflow as tf\n",
        "from sklearn.metrics import confusion_matrix"
      ],
      "metadata": {
        "id": "XNyPcjlfy4QW"
      },
      "execution_count": 1,
      "outputs": []
    },
    {
      "cell_type": "markdown",
      "source": [
        "##Function"
      ],
      "metadata": {
        "id": "ppsowJyTjXhT"
      }
    },
    {
      "cell_type": "markdown",
      "source": [
        "function split data"
      ],
      "metadata": {
        "id": "RGZYYbArmE3y"
      }
    },
    {
      "cell_type": "code",
      "source": [
        "def dataframe_split(data, ratio= 0.2, shuffle= 0):\n",
        "  len_ = int(len(data) - (ratio*len(data)))\n",
        "  if shuffle == 0 :\n",
        "    part_  = data.iloc[:int(1 + len_)]\n",
        "    rest_part_ = data.drop(part_.index)\n",
        "  elif shuffle == 1:\n",
        "    part_ = data.sample(frac = 1.0 - ratio)\n",
        "    rest_part_ = data.drop(part_.index)\n",
        "  return (part_, rest_part_)"
      ],
      "metadata": {
        "id": "-yhTOXNX9zG_"
      },
      "execution_count": 2,
      "outputs": []
    },
    {
      "cell_type": "markdown",
      "source": [
        "fucntion membuat dataset"
      ],
      "metadata": {
        "id": "aES7xQuXmG_-"
      }
    },
    {
      "cell_type": "code",
      "source": [
        "def dataframe_to_dataset(data, batch_size=32):\n",
        "  df = data.copy()\n",
        "  labels = df.pop('target')\n",
        "  df = {key:  tf.expand_dims(value,axis=1) for key, value in df.items()}\n",
        "  ds = tf.data.Dataset.from_tensor_slices((dict(df), labels))\n",
        "  ds = ds.batch(batch_size)\n",
        "  ds = ds.prefetch(tf.data.AUTOTUNE)\n",
        "  return ds"
      ],
      "metadata": {
        "id": "yUeMchRXKhcS"
      },
      "execution_count": 3,
      "outputs": []
    },
    {
      "cell_type": "code",
      "source": [
        "def dataframe_imbalanced_to_dataset(data, batch_size=32, repeat=1):\n",
        "  no_df = data.loc[data['target'].eq(0)].copy()\n",
        "  yes_df = data.loc[data['target'].eq(1)].copy()\n",
        "  no_labels = no_df.pop('target')\n",
        "  yes_labels = yes_df.pop('target')\n",
        "  len_no_labels = len(no_labels)\n",
        "  len_yes_labels = len(yes_labels)\n",
        "  if len_no_labels > len_yes_labels:\n",
        "    oversampling = int(round(len_no_labels/len_yes_labels, 0))\n",
        "  else:\n",
        "    oversampling = int(round(len_yes_labels/len_no_labels, 0))\n",
        "\n",
        "  no_df = {key:  tf.expand_dims(value,axis=1) for key, value in no_df.items()}\n",
        "  no_ds = tf.data.Dataset.from_tensor_slices((dict(no_df), no_labels))\n",
        "  no_ds = no_ds.shuffle(batch_size).repeat(repeat)\n",
        "\n",
        "  yes_df = {key:  tf.expand_dims(value,axis=1) for key, value in yes_df.items()}\n",
        "  yes_ds = tf.data.Dataset.from_tensor_slices((dict(yes_df), yes_labels))\n",
        "  yes_ds = yes_ds.shuffle(batch_size).repeat(int(oversampling*repeat))\n",
        "\n",
        "  ds = tf.data.Dataset.sample_from_datasets([no_ds, yes_ds])\n",
        "  ds = ds.batch(batch_size)\n",
        "  ds = ds.prefetch(tf.data.AUTOTUNE)\n",
        "  return ds"
      ],
      "metadata": {
        "id": "EcEnw-62cpnK"
      },
      "execution_count": 4,
      "outputs": []
    },
    {
      "cell_type": "markdown",
      "source": [
        "function preprocessing numeric"
      ],
      "metadata": {
        "id": "x3qXY5rvmJFq"
      }
    },
    {
      "cell_type": "code",
      "source": [
        "def numeric_preprocessing(name, dataset, num_bins):\n",
        "  feature_dataset = dataset.map(lambda x,y: x[name])\n",
        "  # layer = tf.keras.layers.Discretization(num_bins=num_bins, epsilon=0.01)\n",
        "  layer = tf.keras.layers.Normalization()\n",
        "  layer.adapt(feature_dataset)\n",
        "\n",
        "  return layer"
      ],
      "metadata": {
        "id": "jEXvg9csPJyb"
      },
      "execution_count": 5,
      "outputs": []
    },
    {
      "cell_type": "markdown",
      "source": [
        "fucntion preprocessing categories"
      ],
      "metadata": {
        "id": "LeSvhuKSmNTX"
      }
    },
    {
      "cell_type": "code",
      "source": [
        "def categories_preprocessing(name, dataset, dtype):\n",
        "  if(dtype == \"int64\"):\n",
        "    lookup = tf.keras.layers.IntegerLookup()\n",
        "  else:\n",
        "    lookup = tf.keras.layers.StringLookup()\n",
        "  feature_dataset = dataset.map(lambda x,y: x[name])\n",
        "  lookup.adapt(feature_dataset)\n",
        "\n",
        "  # return lookup\n",
        "  category_encoding = tf.keras.layers.CategoryEncoding(num_tokens=lookup.vocabulary_size())\n",
        "  return lambda feature:  category_encoding(lookup(feature))"
      ],
      "metadata": {
        "id": "4Z9l9kcjV4Fy"
      },
      "execution_count": 6,
      "outputs": []
    },
    {
      "cell_type": "markdown",
      "source": [
        "plot metric"
      ],
      "metadata": {
        "id": "r7-sO-o2kxN2"
      }
    },
    {
      "cell_type": "code",
      "source": [
        "def plot_metric(x, y, history, metric):\n",
        "  fig, ax = plt.subplots(x, y, figsize=(15,10))\n",
        "  epochs = range(len(history.history[metric[0]]))\n",
        "  for metric, ax in zip(metric, ax.flatten()):\n",
        "    ax.plot(epochs, history.history[metric], 'r', label='train')\n",
        "    ax.plot(epochs, history.history['val_'+metric], 'b', ls=\"--\", label='val')\n",
        "    ax.set_ylabel(metric)\n",
        "    ax.set_xlabel('epoch')\n",
        "    ax.legend()  \n",
        "  plt.show()"
      ],
      "metadata": {
        "id": "hXtZMSKVkyav"
      },
      "execution_count": 7,
      "outputs": []
    },
    {
      "cell_type": "markdown",
      "source": [
        "plot confution matrix"
      ],
      "metadata": {
        "id": "WNz4kMtlJxPo"
      }
    },
    {
      "cell_type": "code",
      "source": [
        "def plot_confution_matrix(labels, predictions, p=0.5):\n",
        "  cm = confusion_matrix(labels, predictions > p)\n",
        "  plt.figure(figsize=(5,5))\n",
        "  sns.heatmap(cm, annot=True, fmt=\"d\")\n",
        "  plt.title('Confusion matrix @{:.2f}'.format(p))\n",
        "  plt.ylabel('Actual label')\n",
        "  plt.xlabel('Predicted label')\n",
        "\n",
        "  print('Legitimate Transactions Detected (True Negatives): ', cm[0][0])\n",
        "  print('Legitimate Transactions Incorrectly Detected (False Positives): ', cm[0][1])\n",
        "  print('Fraudulent Transactions Missed (False Negatives): ', cm[1][0])\n",
        "  print('Fraudulent Transactions Detected (True Positives): ', cm[1][1])\n",
        "  print('Total Fraudulent Transactions: ', np.sum(cm[1]))"
      ],
      "metadata": {
        "id": "q5w2FAIiJz--"
      },
      "execution_count": 8,
      "outputs": []
    },
    {
      "cell_type": "markdown",
      "source": [
        "## Mount Google Drive"
      ],
      "metadata": {
        "id": "I8sLXLmJ0YHl"
      }
    },
    {
      "cell_type": "code",
      "source": [
        "drive.mount('/content/drive')"
      ],
      "metadata": {
        "colab": {
          "base_uri": "https://localhost:8080/"
        },
        "id": "CKxJs9K80a5q",
        "outputId": "b8b16240-2b49-4302-f952-1d064ae5bd3c"
      },
      "execution_count": 9,
      "outputs": [
        {
          "output_type": "stream",
          "name": "stdout",
          "text": [
            "Mounted at /content/drive\n"
          ]
        }
      ]
    },
    {
      "cell_type": "markdown",
      "source": [
        "## Load Data"
      ],
      "metadata": {
        "id": "xNDd-nsn0bqh"
      }
    },
    {
      "cell_type": "code",
      "execution_count": 10,
      "metadata": {
        "id": "n12Gn5YyxmSE"
      },
      "outputs": [],
      "source": [
        "data_url = \"/content/drive/MyDrive/Datasets/fintech_banking_dataset.zip\"\n",
        "data_dir = zipfile.ZipFile(data_url, 'r')\n",
        "data_dir.extractall(\"MyFile\")\n",
        "data_dir.close()"
      ]
    },
    {
      "cell_type": "code",
      "source": [
        "dataset_train=pd.read_csv('MyFile/train.csv', delimiter=\";\")\n",
        "dataset_test=pd.read_csv('MyFile/test.csv', delimiter=\";\")"
      ],
      "metadata": {
        "id": "bOWBr6d9Zwtn"
      },
      "execution_count": 11,
      "outputs": []
    },
    {
      "cell_type": "markdown",
      "source": [
        "##Data Explorer"
      ],
      "metadata": {
        "id": "8nLDorXUiwIG"
      }
    },
    {
      "cell_type": "code",
      "source": [
        "print(f\"jumlah data untuk train adalah {len(dataset_train)}\")\n",
        "print(f\"jumlah data untuk test adalah {len(dataset_test)}\")"
      ],
      "metadata": {
        "colab": {
          "base_uri": "https://localhost:8080/"
        },
        "id": "nh0ZVGm_FxZj",
        "outputId": "b23f1f07-3bc5-4e6b-cba8-f09bd05840ce"
      },
      "execution_count": 12,
      "outputs": [
        {
          "output_type": "stream",
          "name": "stdout",
          "text": [
            "jumlah data untuk train adalah 45211\n",
            "jumlah data untuk test adalah 4521\n"
          ]
        }
      ]
    },
    {
      "cell_type": "code",
      "source": [
        "dataset_test.head()"
      ],
      "metadata": {
        "colab": {
          "base_uri": "https://localhost:8080/",
          "height": 206
        },
        "id": "o3331SCAmVGt",
        "outputId": "228feebf-5cb0-4608-eea0-f669094d1aae"
      },
      "execution_count": 13,
      "outputs": [
        {
          "output_type": "execute_result",
          "data": {
            "text/plain": [
              "   age          job  marital  education default  balance housing loan  \\\n",
              "0   30   unemployed  married    primary      no     1787      no   no   \n",
              "1   33     services  married  secondary      no     4789     yes  yes   \n",
              "2   35   management   single   tertiary      no     1350     yes   no   \n",
              "3   30   management  married   tertiary      no     1476     yes  yes   \n",
              "4   59  blue-collar  married  secondary      no        0     yes   no   \n",
              "\n",
              "    contact  day month  duration  campaign  pdays  previous poutcome   y  \n",
              "0  cellular   19   oct        79         1     -1         0  unknown  no  \n",
              "1  cellular   11   may       220         1    339         4  failure  no  \n",
              "2  cellular   16   apr       185         1    330         1  failure  no  \n",
              "3   unknown    3   jun       199         4     -1         0  unknown  no  \n",
              "4   unknown    5   may       226         1     -1         0  unknown  no  "
            ],
            "text/html": [
              "\n",
              "  <div id=\"df-5bfb44e7-949f-48af-9a9d-d2979c5cbba4\">\n",
              "    <div class=\"colab-df-container\">\n",
              "      <div>\n",
              "<style scoped>\n",
              "    .dataframe tbody tr th:only-of-type {\n",
              "        vertical-align: middle;\n",
              "    }\n",
              "\n",
              "    .dataframe tbody tr th {\n",
              "        vertical-align: top;\n",
              "    }\n",
              "\n",
              "    .dataframe thead th {\n",
              "        text-align: right;\n",
              "    }\n",
              "</style>\n",
              "<table border=\"1\" class=\"dataframe\">\n",
              "  <thead>\n",
              "    <tr style=\"text-align: right;\">\n",
              "      <th></th>\n",
              "      <th>age</th>\n",
              "      <th>job</th>\n",
              "      <th>marital</th>\n",
              "      <th>education</th>\n",
              "      <th>default</th>\n",
              "      <th>balance</th>\n",
              "      <th>housing</th>\n",
              "      <th>loan</th>\n",
              "      <th>contact</th>\n",
              "      <th>day</th>\n",
              "      <th>month</th>\n",
              "      <th>duration</th>\n",
              "      <th>campaign</th>\n",
              "      <th>pdays</th>\n",
              "      <th>previous</th>\n",
              "      <th>poutcome</th>\n",
              "      <th>y</th>\n",
              "    </tr>\n",
              "  </thead>\n",
              "  <tbody>\n",
              "    <tr>\n",
              "      <th>0</th>\n",
              "      <td>30</td>\n",
              "      <td>unemployed</td>\n",
              "      <td>married</td>\n",
              "      <td>primary</td>\n",
              "      <td>no</td>\n",
              "      <td>1787</td>\n",
              "      <td>no</td>\n",
              "      <td>no</td>\n",
              "      <td>cellular</td>\n",
              "      <td>19</td>\n",
              "      <td>oct</td>\n",
              "      <td>79</td>\n",
              "      <td>1</td>\n",
              "      <td>-1</td>\n",
              "      <td>0</td>\n",
              "      <td>unknown</td>\n",
              "      <td>no</td>\n",
              "    </tr>\n",
              "    <tr>\n",
              "      <th>1</th>\n",
              "      <td>33</td>\n",
              "      <td>services</td>\n",
              "      <td>married</td>\n",
              "      <td>secondary</td>\n",
              "      <td>no</td>\n",
              "      <td>4789</td>\n",
              "      <td>yes</td>\n",
              "      <td>yes</td>\n",
              "      <td>cellular</td>\n",
              "      <td>11</td>\n",
              "      <td>may</td>\n",
              "      <td>220</td>\n",
              "      <td>1</td>\n",
              "      <td>339</td>\n",
              "      <td>4</td>\n",
              "      <td>failure</td>\n",
              "      <td>no</td>\n",
              "    </tr>\n",
              "    <tr>\n",
              "      <th>2</th>\n",
              "      <td>35</td>\n",
              "      <td>management</td>\n",
              "      <td>single</td>\n",
              "      <td>tertiary</td>\n",
              "      <td>no</td>\n",
              "      <td>1350</td>\n",
              "      <td>yes</td>\n",
              "      <td>no</td>\n",
              "      <td>cellular</td>\n",
              "      <td>16</td>\n",
              "      <td>apr</td>\n",
              "      <td>185</td>\n",
              "      <td>1</td>\n",
              "      <td>330</td>\n",
              "      <td>1</td>\n",
              "      <td>failure</td>\n",
              "      <td>no</td>\n",
              "    </tr>\n",
              "    <tr>\n",
              "      <th>3</th>\n",
              "      <td>30</td>\n",
              "      <td>management</td>\n",
              "      <td>married</td>\n",
              "      <td>tertiary</td>\n",
              "      <td>no</td>\n",
              "      <td>1476</td>\n",
              "      <td>yes</td>\n",
              "      <td>yes</td>\n",
              "      <td>unknown</td>\n",
              "      <td>3</td>\n",
              "      <td>jun</td>\n",
              "      <td>199</td>\n",
              "      <td>4</td>\n",
              "      <td>-1</td>\n",
              "      <td>0</td>\n",
              "      <td>unknown</td>\n",
              "      <td>no</td>\n",
              "    </tr>\n",
              "    <tr>\n",
              "      <th>4</th>\n",
              "      <td>59</td>\n",
              "      <td>blue-collar</td>\n",
              "      <td>married</td>\n",
              "      <td>secondary</td>\n",
              "      <td>no</td>\n",
              "      <td>0</td>\n",
              "      <td>yes</td>\n",
              "      <td>no</td>\n",
              "      <td>unknown</td>\n",
              "      <td>5</td>\n",
              "      <td>may</td>\n",
              "      <td>226</td>\n",
              "      <td>1</td>\n",
              "      <td>-1</td>\n",
              "      <td>0</td>\n",
              "      <td>unknown</td>\n",
              "      <td>no</td>\n",
              "    </tr>\n",
              "  </tbody>\n",
              "</table>\n",
              "</div>\n",
              "      <button class=\"colab-df-convert\" onclick=\"convertToInteractive('df-5bfb44e7-949f-48af-9a9d-d2979c5cbba4')\"\n",
              "              title=\"Convert this dataframe to an interactive table.\"\n",
              "              style=\"display:none;\">\n",
              "        \n",
              "  <svg xmlns=\"http://www.w3.org/2000/svg\" height=\"24px\"viewBox=\"0 0 24 24\"\n",
              "       width=\"24px\">\n",
              "    <path d=\"M0 0h24v24H0V0z\" fill=\"none\"/>\n",
              "    <path d=\"M18.56 5.44l.94 2.06.94-2.06 2.06-.94-2.06-.94-.94-2.06-.94 2.06-2.06.94zm-11 1L8.5 8.5l.94-2.06 2.06-.94-2.06-.94L8.5 2.5l-.94 2.06-2.06.94zm10 10l.94 2.06.94-2.06 2.06-.94-2.06-.94-.94-2.06-.94 2.06-2.06.94z\"/><path d=\"M17.41 7.96l-1.37-1.37c-.4-.4-.92-.59-1.43-.59-.52 0-1.04.2-1.43.59L10.3 9.45l-7.72 7.72c-.78.78-.78 2.05 0 2.83L4 21.41c.39.39.9.59 1.41.59.51 0 1.02-.2 1.41-.59l7.78-7.78 2.81-2.81c.8-.78.8-2.07 0-2.86zM5.41 20L4 18.59l7.72-7.72 1.47 1.35L5.41 20z\"/>\n",
              "  </svg>\n",
              "      </button>\n",
              "      \n",
              "  <style>\n",
              "    .colab-df-container {\n",
              "      display:flex;\n",
              "      flex-wrap:wrap;\n",
              "      gap: 12px;\n",
              "    }\n",
              "\n",
              "    .colab-df-convert {\n",
              "      background-color: #E8F0FE;\n",
              "      border: none;\n",
              "      border-radius: 50%;\n",
              "      cursor: pointer;\n",
              "      display: none;\n",
              "      fill: #1967D2;\n",
              "      height: 32px;\n",
              "      padding: 0 0 0 0;\n",
              "      width: 32px;\n",
              "    }\n",
              "\n",
              "    .colab-df-convert:hover {\n",
              "      background-color: #E2EBFA;\n",
              "      box-shadow: 0px 1px 2px rgba(60, 64, 67, 0.3), 0px 1px 3px 1px rgba(60, 64, 67, 0.15);\n",
              "      fill: #174EA6;\n",
              "    }\n",
              "\n",
              "    [theme=dark] .colab-df-convert {\n",
              "      background-color: #3B4455;\n",
              "      fill: #D2E3FC;\n",
              "    }\n",
              "\n",
              "    [theme=dark] .colab-df-convert:hover {\n",
              "      background-color: #434B5C;\n",
              "      box-shadow: 0px 1px 3px 1px rgba(0, 0, 0, 0.15);\n",
              "      filter: drop-shadow(0px 1px 2px rgba(0, 0, 0, 0.3));\n",
              "      fill: #FFFFFF;\n",
              "    }\n",
              "  </style>\n",
              "\n",
              "      <script>\n",
              "        const buttonEl =\n",
              "          document.querySelector('#df-5bfb44e7-949f-48af-9a9d-d2979c5cbba4 button.colab-df-convert');\n",
              "        buttonEl.style.display =\n",
              "          google.colab.kernel.accessAllowed ? 'block' : 'none';\n",
              "\n",
              "        async function convertToInteractive(key) {\n",
              "          const element = document.querySelector('#df-5bfb44e7-949f-48af-9a9d-d2979c5cbba4');\n",
              "          const dataTable =\n",
              "            await google.colab.kernel.invokeFunction('convertToInteractive',\n",
              "                                                     [key], {});\n",
              "          if (!dataTable) return;\n",
              "\n",
              "          const docLinkHtml = 'Like what you see? Visit the ' +\n",
              "            '<a target=\"_blank\" href=https://colab.research.google.com/notebooks/data_table.ipynb>data table notebook</a>'\n",
              "            + ' to learn more about interactive tables.';\n",
              "          element.innerHTML = '';\n",
              "          dataTable['output_type'] = 'display_data';\n",
              "          await google.colab.output.renderOutput(dataTable, element);\n",
              "          const docLink = document.createElement('div');\n",
              "          docLink.innerHTML = docLinkHtml;\n",
              "          element.appendChild(docLink);\n",
              "        }\n",
              "      </script>\n",
              "    </div>\n",
              "  </div>\n",
              "  "
            ]
          },
          "metadata": {},
          "execution_count": 13
        }
      ]
    },
    {
      "cell_type": "code",
      "source": [
        "dataset_train.head()"
      ],
      "metadata": {
        "colab": {
          "base_uri": "https://localhost:8080/",
          "height": 206
        },
        "id": "Fkiy4n1UZ3hq",
        "outputId": "82af41f8-3e01-4f94-eb29-3cd749408fa9"
      },
      "execution_count": 14,
      "outputs": [
        {
          "output_type": "execute_result",
          "data": {
            "text/plain": [
              "   age           job  marital  education default  balance housing loan  \\\n",
              "0   58    management  married   tertiary      no     2143     yes   no   \n",
              "1   44    technician   single  secondary      no       29     yes   no   \n",
              "2   33  entrepreneur  married  secondary      no        2     yes  yes   \n",
              "3   47   blue-collar  married    unknown      no     1506     yes   no   \n",
              "4   33       unknown   single    unknown      no        1      no   no   \n",
              "\n",
              "   contact  day month  duration  campaign  pdays  previous poutcome   y  \n",
              "0  unknown    5   may       261         1     -1         0  unknown  no  \n",
              "1  unknown    5   may       151         1     -1         0  unknown  no  \n",
              "2  unknown    5   may        76         1     -1         0  unknown  no  \n",
              "3  unknown    5   may        92         1     -1         0  unknown  no  \n",
              "4  unknown    5   may       198         1     -1         0  unknown  no  "
            ],
            "text/html": [
              "\n",
              "  <div id=\"df-58987ec5-a68a-4fee-93ba-1779d653fda7\">\n",
              "    <div class=\"colab-df-container\">\n",
              "      <div>\n",
              "<style scoped>\n",
              "    .dataframe tbody tr th:only-of-type {\n",
              "        vertical-align: middle;\n",
              "    }\n",
              "\n",
              "    .dataframe tbody tr th {\n",
              "        vertical-align: top;\n",
              "    }\n",
              "\n",
              "    .dataframe thead th {\n",
              "        text-align: right;\n",
              "    }\n",
              "</style>\n",
              "<table border=\"1\" class=\"dataframe\">\n",
              "  <thead>\n",
              "    <tr style=\"text-align: right;\">\n",
              "      <th></th>\n",
              "      <th>age</th>\n",
              "      <th>job</th>\n",
              "      <th>marital</th>\n",
              "      <th>education</th>\n",
              "      <th>default</th>\n",
              "      <th>balance</th>\n",
              "      <th>housing</th>\n",
              "      <th>loan</th>\n",
              "      <th>contact</th>\n",
              "      <th>day</th>\n",
              "      <th>month</th>\n",
              "      <th>duration</th>\n",
              "      <th>campaign</th>\n",
              "      <th>pdays</th>\n",
              "      <th>previous</th>\n",
              "      <th>poutcome</th>\n",
              "      <th>y</th>\n",
              "    </tr>\n",
              "  </thead>\n",
              "  <tbody>\n",
              "    <tr>\n",
              "      <th>0</th>\n",
              "      <td>58</td>\n",
              "      <td>management</td>\n",
              "      <td>married</td>\n",
              "      <td>tertiary</td>\n",
              "      <td>no</td>\n",
              "      <td>2143</td>\n",
              "      <td>yes</td>\n",
              "      <td>no</td>\n",
              "      <td>unknown</td>\n",
              "      <td>5</td>\n",
              "      <td>may</td>\n",
              "      <td>261</td>\n",
              "      <td>1</td>\n",
              "      <td>-1</td>\n",
              "      <td>0</td>\n",
              "      <td>unknown</td>\n",
              "      <td>no</td>\n",
              "    </tr>\n",
              "    <tr>\n",
              "      <th>1</th>\n",
              "      <td>44</td>\n",
              "      <td>technician</td>\n",
              "      <td>single</td>\n",
              "      <td>secondary</td>\n",
              "      <td>no</td>\n",
              "      <td>29</td>\n",
              "      <td>yes</td>\n",
              "      <td>no</td>\n",
              "      <td>unknown</td>\n",
              "      <td>5</td>\n",
              "      <td>may</td>\n",
              "      <td>151</td>\n",
              "      <td>1</td>\n",
              "      <td>-1</td>\n",
              "      <td>0</td>\n",
              "      <td>unknown</td>\n",
              "      <td>no</td>\n",
              "    </tr>\n",
              "    <tr>\n",
              "      <th>2</th>\n",
              "      <td>33</td>\n",
              "      <td>entrepreneur</td>\n",
              "      <td>married</td>\n",
              "      <td>secondary</td>\n",
              "      <td>no</td>\n",
              "      <td>2</td>\n",
              "      <td>yes</td>\n",
              "      <td>yes</td>\n",
              "      <td>unknown</td>\n",
              "      <td>5</td>\n",
              "      <td>may</td>\n",
              "      <td>76</td>\n",
              "      <td>1</td>\n",
              "      <td>-1</td>\n",
              "      <td>0</td>\n",
              "      <td>unknown</td>\n",
              "      <td>no</td>\n",
              "    </tr>\n",
              "    <tr>\n",
              "      <th>3</th>\n",
              "      <td>47</td>\n",
              "      <td>blue-collar</td>\n",
              "      <td>married</td>\n",
              "      <td>unknown</td>\n",
              "      <td>no</td>\n",
              "      <td>1506</td>\n",
              "      <td>yes</td>\n",
              "      <td>no</td>\n",
              "      <td>unknown</td>\n",
              "      <td>5</td>\n",
              "      <td>may</td>\n",
              "      <td>92</td>\n",
              "      <td>1</td>\n",
              "      <td>-1</td>\n",
              "      <td>0</td>\n",
              "      <td>unknown</td>\n",
              "      <td>no</td>\n",
              "    </tr>\n",
              "    <tr>\n",
              "      <th>4</th>\n",
              "      <td>33</td>\n",
              "      <td>unknown</td>\n",
              "      <td>single</td>\n",
              "      <td>unknown</td>\n",
              "      <td>no</td>\n",
              "      <td>1</td>\n",
              "      <td>no</td>\n",
              "      <td>no</td>\n",
              "      <td>unknown</td>\n",
              "      <td>5</td>\n",
              "      <td>may</td>\n",
              "      <td>198</td>\n",
              "      <td>1</td>\n",
              "      <td>-1</td>\n",
              "      <td>0</td>\n",
              "      <td>unknown</td>\n",
              "      <td>no</td>\n",
              "    </tr>\n",
              "  </tbody>\n",
              "</table>\n",
              "</div>\n",
              "      <button class=\"colab-df-convert\" onclick=\"convertToInteractive('df-58987ec5-a68a-4fee-93ba-1779d653fda7')\"\n",
              "              title=\"Convert this dataframe to an interactive table.\"\n",
              "              style=\"display:none;\">\n",
              "        \n",
              "  <svg xmlns=\"http://www.w3.org/2000/svg\" height=\"24px\"viewBox=\"0 0 24 24\"\n",
              "       width=\"24px\">\n",
              "    <path d=\"M0 0h24v24H0V0z\" fill=\"none\"/>\n",
              "    <path d=\"M18.56 5.44l.94 2.06.94-2.06 2.06-.94-2.06-.94-.94-2.06-.94 2.06-2.06.94zm-11 1L8.5 8.5l.94-2.06 2.06-.94-2.06-.94L8.5 2.5l-.94 2.06-2.06.94zm10 10l.94 2.06.94-2.06 2.06-.94-2.06-.94-.94-2.06-.94 2.06-2.06.94z\"/><path d=\"M17.41 7.96l-1.37-1.37c-.4-.4-.92-.59-1.43-.59-.52 0-1.04.2-1.43.59L10.3 9.45l-7.72 7.72c-.78.78-.78 2.05 0 2.83L4 21.41c.39.39.9.59 1.41.59.51 0 1.02-.2 1.41-.59l7.78-7.78 2.81-2.81c.8-.78.8-2.07 0-2.86zM5.41 20L4 18.59l7.72-7.72 1.47 1.35L5.41 20z\"/>\n",
              "  </svg>\n",
              "      </button>\n",
              "      \n",
              "  <style>\n",
              "    .colab-df-container {\n",
              "      display:flex;\n",
              "      flex-wrap:wrap;\n",
              "      gap: 12px;\n",
              "    }\n",
              "\n",
              "    .colab-df-convert {\n",
              "      background-color: #E8F0FE;\n",
              "      border: none;\n",
              "      border-radius: 50%;\n",
              "      cursor: pointer;\n",
              "      display: none;\n",
              "      fill: #1967D2;\n",
              "      height: 32px;\n",
              "      padding: 0 0 0 0;\n",
              "      width: 32px;\n",
              "    }\n",
              "\n",
              "    .colab-df-convert:hover {\n",
              "      background-color: #E2EBFA;\n",
              "      box-shadow: 0px 1px 2px rgba(60, 64, 67, 0.3), 0px 1px 3px 1px rgba(60, 64, 67, 0.15);\n",
              "      fill: #174EA6;\n",
              "    }\n",
              "\n",
              "    [theme=dark] .colab-df-convert {\n",
              "      background-color: #3B4455;\n",
              "      fill: #D2E3FC;\n",
              "    }\n",
              "\n",
              "    [theme=dark] .colab-df-convert:hover {\n",
              "      background-color: #434B5C;\n",
              "      box-shadow: 0px 1px 3px 1px rgba(0, 0, 0, 0.15);\n",
              "      filter: drop-shadow(0px 1px 2px rgba(0, 0, 0, 0.3));\n",
              "      fill: #FFFFFF;\n",
              "    }\n",
              "  </style>\n",
              "\n",
              "      <script>\n",
              "        const buttonEl =\n",
              "          document.querySelector('#df-58987ec5-a68a-4fee-93ba-1779d653fda7 button.colab-df-convert');\n",
              "        buttonEl.style.display =\n",
              "          google.colab.kernel.accessAllowed ? 'block' : 'none';\n",
              "\n",
              "        async function convertToInteractive(key) {\n",
              "          const element = document.querySelector('#df-58987ec5-a68a-4fee-93ba-1779d653fda7');\n",
              "          const dataTable =\n",
              "            await google.colab.kernel.invokeFunction('convertToInteractive',\n",
              "                                                     [key], {});\n",
              "          if (!dataTable) return;\n",
              "\n",
              "          const docLinkHtml = 'Like what you see? Visit the ' +\n",
              "            '<a target=\"_blank\" href=https://colab.research.google.com/notebooks/data_table.ipynb>data table notebook</a>'\n",
              "            + ' to learn more about interactive tables.';\n",
              "          element.innerHTML = '';\n",
              "          dataTable['output_type'] = 'display_data';\n",
              "          await google.colab.output.renderOutput(dataTable, element);\n",
              "          const docLink = document.createElement('div');\n",
              "          docLink.innerHTML = docLinkHtml;\n",
              "          element.appendChild(docLink);\n",
              "        }\n",
              "      </script>\n",
              "    </div>\n",
              "  </div>\n",
              "  "
            ]
          },
          "metadata": {},
          "execution_count": 14
        }
      ]
    },
    {
      "cell_type": "markdown",
      "source": [
        "melihat type pada data set"
      ],
      "metadata": {
        "id": "OhBKv9Lbl-vb"
      }
    },
    {
      "cell_type": "code",
      "source": [
        "dataset_train.dtypes"
      ],
      "metadata": {
        "colab": {
          "base_uri": "https://localhost:8080/"
        },
        "id": "1EWLh51tNZ46",
        "outputId": "764b490f-f0ec-4f3c-a3ea-7126825d92b5"
      },
      "execution_count": 15,
      "outputs": [
        {
          "output_type": "execute_result",
          "data": {
            "text/plain": [
              "age           int64\n",
              "job          object\n",
              "marital      object\n",
              "education    object\n",
              "default      object\n",
              "balance       int64\n",
              "housing      object\n",
              "loan         object\n",
              "contact      object\n",
              "day           int64\n",
              "month        object\n",
              "duration      int64\n",
              "campaign      int64\n",
              "pdays         int64\n",
              "previous      int64\n",
              "poutcome     object\n",
              "y            object\n",
              "dtype: object"
            ]
          },
          "metadata": {},
          "execution_count": 15
        }
      ]
    },
    {
      "cell_type": "code",
      "source": [
        "ax = dataset_train['y'].value_counts().plot.bar(color=['r','b'])\n",
        "plt.title(\"Jumlah data tiap label pada dataset train\")\n",
        "for p in ax.patches:\n",
        "    b = p.get_bbox()\n",
        "    ax.annotate(str(p.get_height()), ((b.x0 + b.x1)/2 - .1, p.get_height() * 1.),fontsize=12)"
      ],
      "metadata": {
        "colab": {
          "base_uri": "https://localhost:8080/",
          "height": 289
        },
        "id": "7kW4KB0Pniq2",
        "outputId": "cc5fa745-6bfd-43f0-be0d-0e8b224b42e2"
      },
      "execution_count": 16,
      "outputs": [
        {
          "output_type": "display_data",
          "data": {
            "text/plain": [
              "<Figure size 432x288 with 1 Axes>"
            ],
            "image/png": "[encoded data removed]"
          },
          "metadata": {
            "needs_background": "light"
          }
        }
      ]
    },
    {
      "cell_type": "code",
      "source": [
        "ax = dataset_test['y'].value_counts().plot.bar(color=['r','b'])\n",
        "plt.title(\"Jumlah data tiap label pada dataset test\")\n",
        "for p in ax.patches:\n",
        "    b = p.get_bbox()\n",
        "    ax.annotate(str(p.get_height()), ((b.x0 + b.x1)/2 - .1, p.get_height() * 1.),fontsize=12)"
      ],
      "metadata": {
        "colab": {
          "base_uri": "https://localhost:8080/",
          "height": 289
        },
        "id": "uuOyZoVEnlkq",
        "outputId": "f24e5f54-2166-4029-e287-6d361a0ca92c"
      },
      "execution_count": 17,
      "outputs": [
        {
          "output_type": "display_data",
          "data": {
            "text/plain": [
              "<Figure size 432x288 with 1 Axes>"
            ],
            "image/png": "[encoded data removed]"
          },
          "metadata": {
            "needs_background": "light"
          }
        }
      ]
    },
    {
      "cell_type": "code",
      "source": [
        "train_index = [i for i in dataset_train.drop(columns=['y']).columns]\n",
        "dataset_train.groupby(by=train_index)[\"y\"].value_counts().unstack().reset_index().sort_values(by=[\"no\"], ascending=True).head()"
      ],
      "metadata": {
        "colab": {
          "base_uri": "https://localhost:8080/",
          "height": 206
        },
        "id": "9LQxvn4Dp7vZ",
        "outputId": "5f55c07b-be23-4fac-d34e-07dc15b6dcd9"
      },
      "execution_count": 18,
      "outputs": [
        {
          "output_type": "execute_result",
          "data": {
            "text/plain": [
              "y      age           job  marital  education default  balance housing loan  \\\n",
              "2       18       student   single    primary      no     1944      no   no   \n",
              "30043   45  entrepreneur  married    primary      no     1953     yes   no   \n",
              "30044   45  entrepreneur  married    primary      no     2418     yes   no   \n",
              "30045   45  entrepreneur  married    primary      no     5315     yes  yes   \n",
              "30046   45  entrepreneur  married  secondary      no     -479     yes   no   \n",
              "\n",
              "y        contact  day month  duration  campaign  pdays  previous poutcome  \\\n",
              "2      telephone   10   aug       122         3     -1         0  unknown   \n",
              "30043    unknown   15   may        95         3     -1         0  unknown   \n",
              "30044    unknown   14   may       120         1     -1         0  unknown   \n",
              "30045   cellular   15   may       262         2     -1         0  unknown   \n",
              "30046   cellular   30   jul       167         2     -1         0  unknown   \n",
              "\n",
              "y       no  yes  \n",
              "2      1.0  NaN  \n",
              "30043  1.0  NaN  \n",
              "30044  1.0  NaN  \n",
              "30045  1.0  NaN  \n",
              "30046  1.0  NaN  "
            ],
            "text/html": [
              "\n",
              "  <div id=\"df-e7596be7-3c05-497d-81ad-106ba831139a\">\n",
              "    <div class=\"colab-df-container\">\n",
              "      <div>\n",
              "<style scoped>\n",
              "    .dataframe tbody tr th:only-of-type {\n",
              "        vertical-align: middle;\n",
              "    }\n",
              "\n",
              "    .dataframe tbody tr th {\n",
              "        vertical-align: top;\n",
              "    }\n",
              "\n",
              "    .dataframe thead th {\n",
              "        text-align: right;\n",
              "    }\n",
              "</style>\n",
              "<table border=\"1\" class=\"dataframe\">\n",
              "  <thead>\n",
              "    <tr style=\"text-align: right;\">\n",
              "      <th>y</th>\n",
              "      <th>age</th>\n",
              "      <th>job</th>\n",
              "      <th>marital</th>\n",
              "      <th>education</th>\n",
              "      <th>default</th>\n",
              "      <th>balance</th>\n",
              "      <th>housing</th>\n",
              "      <th>loan</th>\n",
              "      <th>contact</th>\n",
              "      <th>day</th>\n",
              "      <th>month</th>\n",
              "      <th>duration</th>\n",
              "      <th>campaign</th>\n",
              "      <th>pdays</th>\n",
              "      <th>previous</th>\n",
              "      <th>poutcome</th>\n",
              "      <th>no</th>\n",
              "      <th>yes</th>\n",
              "    </tr>\n",
              "  </thead>\n",
              "  <tbody>\n",
              "    <tr>\n",
              "      <th>2</th>\n",
              "      <td>18</td>\n",
              "      <td>student</td>\n",
              "      <td>single</td>\n",
              "      <td>primary</td>\n",
              "      <td>no</td>\n",
              "      <td>1944</td>\n",
              "      <td>no</td>\n",
              "      <td>no</td>\n",
              "      <td>telephone</td>\n",
              "      <td>10</td>\n",
              "      <td>aug</td>\n",
              "      <td>122</td>\n",
              "      <td>3</td>\n",
              "      <td>-1</td>\n",
              "      <td>0</td>\n",
              "      <td>unknown</td>\n",
              "      <td>1.0</td>\n",
              "      <td>NaN</td>\n",
              "    </tr>\n",
              "    <tr>\n",
              "      <th>30043</th>\n",
              "      <td>45</td>\n",
              "      <td>entrepreneur</td>\n",
              "      <td>married</td>\n",
              "      <td>primary</td>\n",
              "      <td>no</td>\n",
              "      <td>1953</td>\n",
              "      <td>yes</td>\n",
              "      <td>no</td>\n",
              "      <td>unknown</td>\n",
              "      <td>15</td>\n",
              "      <td>may</td>\n",
              "      <td>95</td>\n",
              "      <td>3</td>\n",
              "      <td>-1</td>\n",
              "      <td>0</td>\n",
              "      <td>unknown</td>\n",
              "      <td>1.0</td>\n",
              "      <td>NaN</td>\n",
              "    </tr>\n",
              "    <tr>\n",
              "      <th>30044</th>\n",
              "      <td>45</td>\n",
              "      <td>entrepreneur</td>\n",
              "      <td>married</td>\n",
              "      <td>primary</td>\n",
              "      <td>no</td>\n",
              "      <td>2418</td>\n",
              "      <td>yes</td>\n",
              "      <td>no</td>\n",
              "      <td>unknown</td>\n",
              "      <td>14</td>\n",
              "      <td>may</td>\n",
              "      <td>120</td>\n",
              "      <td>1</td>\n",
              "      <td>-1</td>\n",
              "      <td>0</td>\n",
              "      <td>unknown</td>\n",
              "      <td>1.0</td>\n",
              "      <td>NaN</td>\n",
              "    </tr>\n",
              "    <tr>\n",
              "      <th>30045</th>\n",
              "      <td>45</td>\n",
              "      <td>entrepreneur</td>\n",
              "      <td>married</td>\n",
              "      <td>primary</td>\n",
              "      <td>no</td>\n",
              "      <td>5315</td>\n",
              "      <td>yes</td>\n",
              "      <td>yes</td>\n",
              "      <td>cellular</td>\n",
              "      <td>15</td>\n",
              "      <td>may</td>\n",
              "      <td>262</td>\n",
              "      <td>2</td>\n",
              "      <td>-1</td>\n",
              "      <td>0</td>\n",
              "      <td>unknown</td>\n",
              "      <td>1.0</td>\n",
              "      <td>NaN</td>\n",
              "    </tr>\n",
              "    <tr>\n",
              "      <th>30046</th>\n",
              "      <td>45</td>\n",
              "      <td>entrepreneur</td>\n",
              "      <td>married</td>\n",
              "      <td>secondary</td>\n",
              "      <td>no</td>\n",
              "      <td>-479</td>\n",
              "      <td>yes</td>\n",
              "      <td>no</td>\n",
              "      <td>cellular</td>\n",
              "      <td>30</td>\n",
              "      <td>jul</td>\n",
              "      <td>167</td>\n",
              "      <td>2</td>\n",
              "      <td>-1</td>\n",
              "      <td>0</td>\n",
              "      <td>unknown</td>\n",
              "      <td>1.0</td>\n",
              "      <td>NaN</td>\n",
              "    </tr>\n",
              "  </tbody>\n",
              "</table>\n",
              "</div>\n",
              "      <button class=\"colab-df-convert\" onclick=\"convertToInteractive('df-e7596be7-3c05-497d-81ad-106ba831139a')\"\n",
              "              title=\"Convert this dataframe to an interactive table.\"\n",
              "              style=\"display:none;\">\n",
              "        \n",
              "  <svg xmlns=\"http://www.w3.org/2000/svg\" height=\"24px\"viewBox=\"0 0 24 24\"\n",
              "       width=\"24px\">\n",
              "    <path d=\"M0 0h24v24H0V0z\" fill=\"none\"/>\n",
              "    <path d=\"M18.56 5.44l.94 2.06.94-2.06 2.06-.94-2.06-.94-.94-2.06-.94 2.06-2.06.94zm-11 1L8.5 8.5l.94-2.06 2.06-.94-2.06-.94L8.5 2.5l-.94 2.06-2.06.94zm10 10l.94 2.06.94-2.06 2.06-.94-2.06-.94-.94-2.06-.94 2.06-2.06.94z\"/><path d=\"M17.41 7.96l-1.37-1.37c-.4-.4-.92-.59-1.43-.59-.52 0-1.04.2-1.43.59L10.3 9.45l-7.72 7.72c-.78.78-.78 2.05 0 2.83L4 21.41c.39.39.9.59 1.41.59.51 0 1.02-.2 1.41-.59l7.78-7.78 2.81-2.81c.8-.78.8-2.07 0-2.86zM5.41 20L4 18.59l7.72-7.72 1.47 1.35L5.41 20z\"/>\n",
              "  </svg>\n",
              "      </button>\n",
              "      \n",
              "  <style>\n",
              "    .colab-df-container {\n",
              "      display:flex;\n",
              "      flex-wrap:wrap;\n",
              "      gap: 12px;\n",
              "    }\n",
              "\n",
              "    .colab-df-convert {\n",
              "      background-color: #E8F0FE;\n",
              "      border: none;\n",
              "      border-radius: 50%;\n",
              "      cursor: pointer;\n",
              "      display: none;\n",
              "      fill: #1967D2;\n",
              "      height: 32px;\n",
              "      padding: 0 0 0 0;\n",
              "      width: 32px;\n",
              "    }\n",
              "\n",
              "    .colab-df-convert:hover {\n",
              "      background-color: #E2EBFA;\n",
              "      box-shadow: 0px 1px 2px rgba(60, 64, 67, 0.3), 0px 1px 3px 1px rgba(60, 64, 67, 0.15);\n",
              "      fill: #174EA6;\n",
              "    }\n",
              "\n",
              "    [theme=dark] .colab-df-convert {\n",
              "      background-color: #3B4455;\n",
              "      fill: #D2E3FC;\n",
              "    }\n",
              "\n",
              "    [theme=dark] .colab-df-convert:hover {\n",
              "      background-color: #434B5C;\n",
              "      box-shadow: 0px 1px 3px 1px rgba(0, 0, 0, 0.15);\n",
              "      filter: drop-shadow(0px 1px 2px rgba(0, 0, 0, 0.3));\n",
              "      fill: #FFFFFF;\n",
              "    }\n",
              "  </style>\n",
              "\n",
              "      <script>\n",
              "        const buttonEl =\n",
              "          document.querySelector('#df-e7596be7-3c05-497d-81ad-106ba831139a button.colab-df-convert');\n",
              "        buttonEl.style.display =\n",
              "          google.colab.kernel.accessAllowed ? 'block' : 'none';\n",
              "\n",
              "        async function convertToInteractive(key) {\n",
              "          const element = document.querySelector('#df-e7596be7-3c05-497d-81ad-106ba831139a');\n",
              "          const dataTable =\n",
              "            await google.colab.kernel.invokeFunction('convertToInteractive',\n",
              "                                                     [key], {});\n",
              "          if (!dataTable) return;\n",
              "\n",
              "          const docLinkHtml = 'Like what you see? Visit the ' +\n",
              "            '<a target=\"_blank\" href=https://colab.research.google.com/notebooks/data_table.ipynb>data table notebook</a>'\n",
              "            + ' to learn more about interactive tables.';\n",
              "          element.innerHTML = '';\n",
              "          dataTable['output_type'] = 'display_data';\n",
              "          await google.colab.output.renderOutput(dataTable, element);\n",
              "          const docLink = document.createElement('div');\n",
              "          docLink.innerHTML = docLinkHtml;\n",
              "          element.appendChild(docLink);\n",
              "        }\n",
              "      </script>\n",
              "    </div>\n",
              "  </div>\n",
              "  "
            ]
          },
          "metadata": {},
          "execution_count": 18
        }
      ]
    },
    {
      "cell_type": "code",
      "source": [
        "cek_no_yes_max = dataset_train.groupby(by=[\"age\", \"job\", \"marital\", \"education\", \"balance\", \"housing\", \"loan\", \"month\" , \"duration\"])[\"y\"].value_counts().unstack().reset_index()"
      ],
      "metadata": {
        "id": "DbOxilfog-4k"
      },
      "execution_count": 19,
      "outputs": []
    },
    {
      "cell_type": "code",
      "source": [
        "cek_no_yes_max.loc[cek_no_yes_max['no'].ge(1.0) &cek_no_yes_max['yes'].ge(1.0)]"
      ],
      "metadata": {
        "colab": {
          "base_uri": "https://localhost:8080/",
          "height": 50
        },
        "id": "h5207phn71DR",
        "outputId": "b0a17361-6743-4b7e-df13-36bd80e1c114"
      },
      "execution_count": 20,
      "outputs": [
        {
          "output_type": "execute_result",
          "data": {
            "text/plain": [
              "Empty DataFrame\n",
              "Columns: [age, job, marital, education, balance, housing, loan, month, duration, no, yes]\n",
              "Index: []"
            ],
            "text/html": [
              "\n",
              "  <div id=\"df-a371d2d6-61e6-44a2-bbf5-44e4fbd8ebdf\">\n",
              "    <div class=\"colab-df-container\">\n",
              "      <div>\n",
              "<style scoped>\n",
              "    .dataframe tbody tr th:only-of-type {\n",
              "        vertical-align: middle;\n",
              "    }\n",
              "\n",
              "    .dataframe tbody tr th {\n",
              "        vertical-align: top;\n",
              "    }\n",
              "\n",
              "    .dataframe thead th {\n",
              "        text-align: right;\n",
              "    }\n",
              "</style>\n",
              "<table border=\"1\" class=\"dataframe\">\n",
              "  <thead>\n",
              "    <tr style=\"text-align: right;\">\n",
              "      <th>y</th>\n",
              "      <th>age</th>\n",
              "      <th>job</th>\n",
              "      <th>marital</th>\n",
              "      <th>education</th>\n",
              "      <th>balance</th>\n",
              "      <th>housing</th>\n",
              "      <th>loan</th>\n",
              "      <th>month</th>\n",
              "      <th>duration</th>\n",
              "      <th>no</th>\n",
              "      <th>yes</th>\n",
              "    </tr>\n",
              "  </thead>\n",
              "  <tbody>\n",
              "  </tbody>\n",
              "</table>\n",
              "</div>\n",
              "      <button class=\"colab-df-convert\" onclick=\"convertToInteractive('df-a371d2d6-61e6-44a2-bbf5-44e4fbd8ebdf')\"\n",
              "              title=\"Convert this dataframe to an interactive table.\"\n",
              "              style=\"display:none;\">\n",
              "        \n",
              "  <svg xmlns=\"http://www.w3.org/2000/svg\" height=\"24px\"viewBox=\"0 0 24 24\"\n",
              "       width=\"24px\">\n",
              "    <path d=\"M0 0h24v24H0V0z\" fill=\"none\"/>\n",
              "    <path d=\"M18.56 5.44l.94 2.06.94-2.06 2.06-.94-2.06-.94-.94-2.06-.94 2.06-2.06.94zm-11 1L8.5 8.5l.94-2.06 2.06-.94-2.06-.94L8.5 2.5l-.94 2.06-2.06.94zm10 10l.94 2.06.94-2.06 2.06-.94-2.06-.94-.94-2.06-.94 2.06-2.06.94z\"/><path d=\"M17.41 7.96l-1.37-1.37c-.4-.4-.92-.59-1.43-.59-.52 0-1.04.2-1.43.59L10.3 9.45l-7.72 7.72c-.78.78-.78 2.05 0 2.83L4 21.41c.39.39.9.59 1.41.59.51 0 1.02-.2 1.41-.59l7.78-7.78 2.81-2.81c.8-.78.8-2.07 0-2.86zM5.41 20L4 18.59l7.72-7.72 1.47 1.35L5.41 20z\"/>\n",
              "  </svg>\n",
              "      </button>\n",
              "      \n",
              "  <style>\n",
              "    .colab-df-container {\n",
              "      display:flex;\n",
              "      flex-wrap:wrap;\n",
              "      gap: 12px;\n",
              "    }\n",
              "\n",
              "    .colab-df-convert {\n",
              "      background-color: #E8F0FE;\n",
              "      border: none;\n",
              "      border-radius: 50%;\n",
              "      cursor: pointer;\n",
              "      display: none;\n",
              "      fill: #1967D2;\n",
              "      height: 32px;\n",
              "      padding: 0 0 0 0;\n",
              "      width: 32px;\n",
              "    }\n",
              "\n",
              "    .colab-df-convert:hover {\n",
              "      background-color: #E2EBFA;\n",
              "      box-shadow: 0px 1px 2px rgba(60, 64, 67, 0.3), 0px 1px 3px 1px rgba(60, 64, 67, 0.15);\n",
              "      fill: #174EA6;\n",
              "    }\n",
              "\n",
              "    [theme=dark] .colab-df-convert {\n",
              "      background-color: #3B4455;\n",
              "      fill: #D2E3FC;\n",
              "    }\n",
              "\n",
              "    [theme=dark] .colab-df-convert:hover {\n",
              "      background-color: #434B5C;\n",
              "      box-shadow: 0px 1px 3px 1px rgba(0, 0, 0, 0.15);\n",
              "      filter: drop-shadow(0px 1px 2px rgba(0, 0, 0, 0.3));\n",
              "      fill: #FFFFFF;\n",
              "    }\n",
              "  </style>\n",
              "\n",
              "      <script>\n",
              "        const buttonEl =\n",
              "          document.querySelector('#df-a371d2d6-61e6-44a2-bbf5-44e4fbd8ebdf button.colab-df-convert');\n",
              "        buttonEl.style.display =\n",
              "          google.colab.kernel.accessAllowed ? 'block' : 'none';\n",
              "\n",
              "        async function convertToInteractive(key) {\n",
              "          const element = document.querySelector('#df-a371d2d6-61e6-44a2-bbf5-44e4fbd8ebdf');\n",
              "          const dataTable =\n",
              "            await google.colab.kernel.invokeFunction('convertToInteractive',\n",
              "                                                     [key], {});\n",
              "          if (!dataTable) return;\n",
              "\n",
              "          const docLinkHtml = 'Like what you see? Visit the ' +\n",
              "            '<a target=\"_blank\" href=https://colab.research.google.com/notebooks/data_table.ipynb>data table notebook</a>'\n",
              "            + ' to learn more about interactive tables.';\n",
              "          element.innerHTML = '';\n",
              "          dataTable['output_type'] = 'display_data';\n",
              "          await google.colab.output.renderOutput(dataTable, element);\n",
              "          const docLink = document.createElement('div');\n",
              "          docLink.innerHTML = docLinkHtml;\n",
              "          element.appendChild(docLink);\n",
              "        }\n",
              "      </script>\n",
              "    </div>\n",
              "  </div>\n",
              "  "
            ]
          },
          "metadata": {},
          "execution_count": 20
        }
      ]
    },
    {
      "cell_type": "markdown",
      "source": [
        "##Data Preprocessing"
      ],
      "metadata": {
        "id": "p-QBTSuHBNk1"
      }
    },
    {
      "cell_type": "markdown",
      "source": [
        "mengubah column y, dengan nilai 0 menunjukan *NO* dan nilai 1 menunjukan *YES*"
      ],
      "metadata": {
        "id": "kQcO2hcxb3wL"
      }
    },
    {
      "cell_type": "code",
      "source": [
        "dataset_train['target'] = dataset_train.loc[:, 'y'].apply(lambda x : 0 if x == \"no\" else 1)\n",
        "\n",
        "dataset_train.drop(columns=[\"default\", \"contact\",\t\"day\", \"campaign\",\t\"pdays\",\t\"previous\", \"poutcome\", \"y\"], inplace=True)"
      ],
      "metadata": {
        "id": "ceeYHVHBbxnX"
      },
      "execution_count": 21,
      "outputs": []
    },
    {
      "cell_type": "code",
      "source": [
        "dataset_test['target'] = dataset_test.loc[:, 'y'].apply(lambda x : 0 if x == \"no\" else 1)\n",
        "\n",
        "dataset_test.drop(columns=[\"default\", \"contact\",\t\"day\", \"campaign\",\t\"pdays\",\t\"previous\", \"poutcome\", \"y\"], inplace=True)"
      ],
      "metadata": {
        "id": "Agv02-YRmL8O"
      },
      "execution_count": 22,
      "outputs": []
    },
    {
      "cell_type": "markdown",
      "source": [
        "dataset train ini merupakan dataframe pandas, split data train dengan ratio 80:20 . 20 % untuk validasi"
      ],
      "metadata": {
        "id": "-Vnal1UbHcZY"
      }
    },
    {
      "cell_type": "code",
      "source": [
        "train, val = dataframe_split(dataset_train, ratio = 0.2, shuffle=1)"
      ],
      "metadata": {
        "id": "rt2ZWTYzeWzv"
      },
      "execution_count": 23,
      "outputs": []
    },
    {
      "cell_type": "code",
      "source": [
        "print(len(train), 'training examples')\n",
        "print(len(val), 'validation examples')"
      ],
      "metadata": {
        "colab": {
          "base_uri": "https://localhost:8080/"
        },
        "id": "PVFwlMDWH8Dl",
        "outputId": "e9d01b48-f345-47a2-8431-76925a2dcc36"
      },
      "execution_count": 24,
      "outputs": [
        {
          "output_type": "stream",
          "name": "stdout",
          "text": [
            "36169 training examples\n",
            "9042 validation examples\n"
          ]
        }
      ]
    },
    {
      "cell_type": "markdown",
      "source": [
        "membuat dataset"
      ],
      "metadata": {
        "id": "0VcaVe4Olf3u"
      }
    },
    {
      "cell_type": "code",
      "source": [
        "batch_size = 128\n",
        "\n",
        "train_ds = dataframe_imbalanced_to_dataset(train, batch_size=batch_size, repeat=5)\n",
        "val_ds = dataframe_imbalanced_to_dataset(val, batch_size=batch_size, repeat=6)\n",
        "test_ds = dataframe_to_dataset(dataset_test, batch_size=batch_size)"
      ],
      "metadata": {
        "id": "G2yhdthoLmol"
      },
      "execution_count": 25,
      "outputs": []
    },
    {
      "cell_type": "markdown",
      "source": [
        "cek data"
      ],
      "metadata": {
        "id": "Q6RnUThrljIL"
      }
    },
    {
      "cell_type": "code",
      "source": [
        "[(train_features, label_batch)] = train_ds.take(1)\n",
        "print('Every feature:', list(train_features.keys()))\n",
        "print('A batch of marital:', train_features['job'])\n",
        "print('A batch of targets:', label_batch )"
      ],
      "metadata": {
        "colab": {
          "base_uri": "https://localhost:8080/"
        },
        "id": "VptefnlDM1VA",
        "outputId": "4ea3d535-ec3e-431b-d618-497a58a3d0d7"
      },
      "execution_count": 26,
      "outputs": [
        {
          "output_type": "stream",
          "name": "stdout",
          "text": [
            "Every feature: ['age', 'job', 'marital', 'education', 'balance', 'housing', 'loan', 'month', 'duration']\n",
            "A batch of marital: tf.Tensor(\n",
            "[[b'services']\n",
            " [b'management']\n",
            " [b'blue-collar']\n",
            " [b'technician']\n",
            " [b'blue-collar']\n",
            " [b'retired']\n",
            " [b'admin.']\n",
            " [b'student']\n",
            " [b'student']\n",
            " [b'management']\n",
            " [b'services']\n",
            " [b'admin.']\n",
            " [b'technician']\n",
            " [b'blue-collar']\n",
            " [b'unemployed']\n",
            " [b'management']\n",
            " [b'entrepreneur']\n",
            " [b'retired']\n",
            " [b'services']\n",
            " [b'blue-collar']\n",
            " [b'admin.']\n",
            " [b'technician']\n",
            " [b'unemployed']\n",
            " [b'blue-collar']\n",
            " [b'unemployed']\n",
            " [b'self-employed']\n",
            " [b'technician']\n",
            " [b'technician']\n",
            " [b'admin.']\n",
            " [b'unemployed']\n",
            " [b'technician']\n",
            " [b'management']\n",
            " [b'blue-collar']\n",
            " [b'admin.']\n",
            " [b'technician']\n",
            " [b'blue-collar']\n",
            " [b'management']\n",
            " [b'admin.']\n",
            " [b'unemployed']\n",
            " [b'blue-collar']\n",
            " [b'management']\n",
            " [b'admin.']\n",
            " [b'technician']\n",
            " [b'admin.']\n",
            " [b'services']\n",
            " [b'unemployed']\n",
            " [b'admin.']\n",
            " [b'admin.']\n",
            " [b'blue-collar']\n",
            " [b'technician']\n",
            " [b'management']\n",
            " [b'management']\n",
            " [b'admin.']\n",
            " [b'services']\n",
            " [b'management']\n",
            " [b'blue-collar']\n",
            " [b'admin.']\n",
            " [b'blue-collar']\n",
            " [b'management']\n",
            " [b'admin.']\n",
            " [b'management']\n",
            " [b'services']\n",
            " [b'technician']\n",
            " [b'self-employed']\n",
            " [b'management']\n",
            " [b'blue-collar']\n",
            " [b'entrepreneur']\n",
            " [b'management']\n",
            " [b'technician']\n",
            " [b'management']\n",
            " [b'student']\n",
            " [b'blue-collar']\n",
            " [b'unemployed']\n",
            " [b'student']\n",
            " [b'technician']\n",
            " [b'admin.']\n",
            " [b'technician']\n",
            " [b'management']\n",
            " [b'management']\n",
            " [b'management']\n",
            " [b'technician']\n",
            " [b'technician']\n",
            " [b'management']\n",
            " [b'technician']\n",
            " [b'admin.']\n",
            " [b'blue-collar']\n",
            " [b'blue-collar']\n",
            " [b'self-employed']\n",
            " [b'management']\n",
            " [b'services']\n",
            " [b'blue-collar']\n",
            " [b'management']\n",
            " [b'admin.']\n",
            " [b'blue-collar']\n",
            " [b'admin.']\n",
            " [b'technician']\n",
            " [b'services']\n",
            " [b'management']\n",
            " [b'technician']\n",
            " [b'blue-collar']\n",
            " [b'blue-collar']\n",
            " [b'unemployed']\n",
            " [b'management']\n",
            " [b'blue-collar']\n",
            " [b'admin.']\n",
            " [b'entrepreneur']\n",
            " [b'technician']\n",
            " [b'retired']\n",
            " [b'services']\n",
            " [b'management']\n",
            " [b'retired']\n",
            " [b'management']\n",
            " [b'management']\n",
            " [b'student']\n",
            " [b'technician']\n",
            " [b'technician']\n",
            " [b'services']\n",
            " [b'services']\n",
            " [b'technician']\n",
            " [b'services']\n",
            " [b'technician']\n",
            " [b'blue-collar']\n",
            " [b'blue-collar']\n",
            " [b'management']\n",
            " [b'management']\n",
            " [b'student']\n",
            " [b'technician']\n",
            " [b'retired']], shape=(128, 1), dtype=string)\n",
            "A batch of targets: tf.Tensor(\n",
            "[1 0 0 1 1 1 1 0 1 0 1 1 1 0 1 0 0 1 0 1 0 1 1 1 1 1 0 1 1 1 1 0 0 1 1 1 1\n",
            " 0 1 0 0 0 0 0 1 1 1 0 1 1 0 1 0 1 0 1 0 0 0 0 0 1 0 1 1 1 1 0 0 1 1 0 1 1\n",
            " 0 1 0 0 1 1 0 0 1 0 0 0 1 1 0 0 0 1 0 1 0 1 1 0 0 0 0 1 1 1 1 1 0 1 0 0 1\n",
            " 0 0 1 0 1 0 1 1 0 1 0 1 1 1 1 1 1], shape=(128,), dtype=int64)\n"
          ]
        }
      ]
    },
    {
      "cell_type": "markdown",
      "source": [
        "test preprocessing"
      ],
      "metadata": {
        "id": "2moUUtUQyEj5"
      }
    },
    {
      "cell_type": "code",
      "source": [
        "test_job_col = train_features['job']\n",
        "test_job_layer = categories_preprocessing(name='job',\n",
        "                                        dataset=train_ds,\n",
        "                                        dtype='string')\n",
        "test_job_layer(test_job_col).numpy()"
      ],
      "metadata": {
        "colab": {
          "base_uri": "https://localhost:8080/"
        },
        "id": "6C16yd6jyJVY",
        "outputId": "017166ba-f7a6-47aa-989d-d33dc00ea105"
      },
      "execution_count": 27,
      "outputs": [
        {
          "output_type": "execute_result",
          "data": {
            "text/plain": [
              "array([[0., 0., 0., ..., 0., 0., 0.],\n",
              "       [0., 1., 0., ..., 0., 0., 0.],\n",
              "       [0., 0., 1., ..., 0., 0., 0.],\n",
              "       ...,\n",
              "       [0., 0., 0., ..., 0., 0., 0.],\n",
              "       [0., 0., 0., ..., 0., 0., 0.],\n",
              "       [0., 0., 0., ..., 0., 0., 0.]], dtype=float32)"
            ]
          },
          "metadata": {},
          "execution_count": 27
        }
      ]
    },
    {
      "cell_type": "code",
      "source": [
        "test_duration_col = train_features['duration']\n",
        "test_duration_layer = numeric_preprocessing(name='duration',\n",
        "                                            dataset=train_ds,\n",
        "                                            num_bins=32)\n",
        "test_duration_layer(test_duration_col)"
      ],
      "metadata": {
        "colab": {
          "base_uri": "https://localhost:8080/"
        },
        "id": "R6N2tN4byZ8D",
        "outputId": "0a1a4b0b-5579-443d-9b3b-5c81496aed50"
      },
      "execution_count": 28,
      "outputs": [
        {
          "output_type": "execute_result",
          "data": {
            "text/plain": [
              "<tf.Tensor: shape=(128, 1), dtype=float32, numpy=\n",
              "array([[-6.37718379e-01],\n",
              "       [-9.18708563e-01],\n",
              "       [-7.78213441e-01],\n",
              "       [-5.02843142e-01],\n",
              "       [ 2.21433163e+00],\n",
              "       [-2.89290607e-01],\n",
              "       [-5.60688004e-02],\n",
              "       [-5.95569849e-01],\n",
              "       [-3.56728256e-01],\n",
              "       [-9.55237269e-01],\n",
              "       [ 3.20457995e-01],\n",
              "       [-8.11932266e-01],\n",
              "       [-1.23506434e-01],\n",
              "       [-5.14082730e-01],\n",
              "       [-3.96066874e-01],\n",
              "       [-3.70777756e-01],\n",
              "       [-5.78710496e-01],\n",
              "       [-7.02346146e-01],\n",
              "       [-1.06763327e+00],\n",
              "       [-2.55571812e-01],\n",
              "       [-9.10278857e-01],\n",
              "       [-5.08462906e-01],\n",
              "       [ 5.90208530e-01],\n",
              "       [ 1.27863443e+00],\n",
              "       [-2.27472782e-01],\n",
              "       [-8.09122384e-01],\n",
              "       [-9.01849151e-01],\n",
              "       [-6.09619379e-01],\n",
              "       [-4.88793612e-01],\n",
              "       [ 1.62144244e+00],\n",
              "       [-5.84330261e-01],\n",
              "       [-1.06647030e-01],\n",
              "       [-6.01189673e-01],\n",
              "       [-6.77057028e-01],\n",
              "       [-1.90944076e-01],\n",
              "       [ 1.28706408e+00],\n",
              "       [ 1.65235138e+00],\n",
              "       [-2.47142106e-01],\n",
              "       [-5.02843142e-01],\n",
              "       [-5.36561966e-01],\n",
              "       [-5.53421378e-01],\n",
              "       [-7.10775852e-01],\n",
              "       [ 1.85185432e+00],\n",
              "       [ 8.72361735e-02],\n",
              "       [-3.23009431e-01],\n",
              "       [ 5.63272573e-02],\n",
              "       [ 2.72854352e+00],\n",
              "       [-1.05077386e+00],\n",
              "       [ 3.66986060e+00],\n",
              "       [-8.69777203e-02],\n",
              "       [-4.12926286e-01],\n",
              "       [-1.31936133e-01],\n",
              "       [-4.49454993e-01],\n",
              "       [-1.51605457e-01],\n",
              "       [ 6.19470589e-02],\n",
              "       [-3.48298550e-01],\n",
              "       [-2.94910431e-01],\n",
              "       [-8.65320444e-01],\n",
              "       [-1.76894560e-01],\n",
              "       [-9.04659033e-01],\n",
              "       [-8.54080796e-01],\n",
              "       [ 1.72540879e+00],\n",
              "       [-1.48795545e-01],\n",
              "       [-2.52761900e-01],\n",
              "       [ 1.51185632e+00],\n",
              "       [ 1.93053162e+00],\n",
              "       [ 1.09715380e-01],\n",
              "       [-5.59041142e-01],\n",
              "       [-7.58544147e-01],\n",
              "       [ 1.60293609e-01],\n",
              "       [-5.19702554e-01],\n",
              "       [-5.00033200e-01],\n",
              "       [-8.11932266e-01],\n",
              "       [ 7.67232299e-01],\n",
              "       [ 1.69886351e-02],\n",
              "       [ 5.38109064e+00],\n",
              "       [-2.04993576e-01],\n",
              "       [-6.43338203e-01],\n",
              "       [-6.40528321e-01],\n",
              "       [-5.50611436e-01],\n",
              "       [-2.69621313e-01],\n",
              "       [-5.59041142e-01],\n",
              "       [-6.71437204e-01],\n",
              "       [-2.52761900e-01],\n",
              "       [-8.34411502e-01],\n",
              "       [-6.32098615e-01],\n",
              "       [ 1.62706220e+00],\n",
              "       [ 6.26737237e-01],\n",
              "       [-1.57225251e-01],\n",
              "       [-2.97720313e-01],\n",
              "       [-9.13088739e-01],\n",
              "       [ 3.66579443e-02],\n",
              "       [-8.90609503e-01],\n",
              "       [-2.38712400e-01],\n",
              "       [-4.46645111e-01],\n",
              "       [-5.73090672e-01],\n",
              "       [ 8.29050124e-01],\n",
              "       [-1.39202802e-02],\n",
              "       [-5.36561966e-01],\n",
              "       [-1.03672445e+00],\n",
              "       [-7.38874853e-01],\n",
              "       [ 1.15335189e-01],\n",
              "       [ 2.06259704e+00],\n",
              "       [ 1.40624300e-01],\n",
              "       [ 1.59334338e+00],\n",
              "       [ 1.46244109e-01],\n",
              "       [-1.06482339e+00],\n",
              "       [-6.16886057e-02],\n",
              "       [-7.78213441e-01],\n",
              "       [-4.10116374e-01],\n",
              "       [-5.39371848e-01],\n",
              "       [-2.38712400e-01],\n",
              "       [ 1.29227337e-04],\n",
              "       [-7.75403559e-01],\n",
              "       [-7.19205558e-01],\n",
              "       [-6.37718379e-01],\n",
              "       [-5.92759967e-01],\n",
              "       [-7.89453089e-01],\n",
              "       [ 6.88555062e-01],\n",
              "       [-5.89950085e-01],\n",
              "       [-4.66314405e-01],\n",
              "       [-9.49617445e-01],\n",
              "       [ 4.07564938e-01],\n",
              "       [ 8.15000653e-01],\n",
              "       [-4.49454993e-01],\n",
              "       [ 8.23430359e-01],\n",
              "       [ 1.26739478e+00],\n",
              "       [ 1.35169184e+00]], dtype=float32)>"
            ]
          },
          "metadata": {},
          "execution_count": 28
        }
      ]
    },
    {
      "cell_type": "markdown",
      "source": [
        "membagikan column berdasarkan numeric atau categorical integer atau string"
      ],
      "metadata": {
        "id": "c19rHREvlsAr"
      }
    },
    {
      "cell_type": "code",
      "source": [
        "numeric_keys = [\"balance\", \"duration\"]\n",
        "categorical_integer_keys = [\"age\"]\n",
        "categorical_string_keys = [\"job\", \"marital\", \"education\", \"housing\", \"loan\", \"month\"]\n",
        "all_inputs = []\n",
        "all_preprocessors = []"
      ],
      "metadata": {
        "id": "Hl5BaK0S9Xb1"
      },
      "execution_count": 29,
      "outputs": []
    },
    {
      "cell_type": "code",
      "source": [
        "for numeric in numeric_keys:\n",
        "  input = tf.keras.Input(shape=(1,), name=numeric, dtype=\"int64\")\n",
        "  num_layer = numeric_preprocessing(name=numeric, dataset=train_ds, num_bins=32)\n",
        "  num_preprocessor = num_layer(input)\n",
        "  all_inputs.append(input)\n",
        "  all_preprocessors.append(num_preprocessor)"
      ],
      "metadata": {
        "id": "n44nM94XQ4po"
      },
      "execution_count": 30,
      "outputs": []
    },
    {
      "cell_type": "code",
      "source": [
        "for categorical in categorical_string_keys:\n",
        "  input = tf.keras.Input(shape=(1,), name=categorical, dtype=\"string\")\n",
        "  cat_layer = categories_preprocessing(name=categorical, dataset=train_ds, dtype=\"string\")\n",
        "  cat_preprocessor = cat_layer(input)\n",
        "  all_inputs.append(input)\n",
        "  all_preprocessors.append(cat_preprocessor)"
      ],
      "metadata": {
        "id": "uZp_YEXgUlZc"
      },
      "execution_count": 31,
      "outputs": []
    },
    {
      "cell_type": "code",
      "source": [
        "for categorical_int in categorical_integer_keys:\n",
        "  input = tf.keras.Input(shape=(1,), name=categorical_int, dtype=\"int64\")\n",
        "  cat_int_layer = categories_preprocessing(name=categorical_int, dataset=train_ds, dtype=\"int64\")\n",
        "  cat_int_preprocessor = cat_int_layer(input)\n",
        "  all_inputs.append(input)\n",
        "  all_preprocessors.append(cat_int_preprocessor)"
      ],
      "metadata": {
        "id": "LcPGORYKsIYB"
      },
      "execution_count": 32,
      "outputs": []
    },
    {
      "cell_type": "code",
      "source": [
        "all_inputs, all_preprocessors"
      ],
      "metadata": {
        "colab": {
          "base_uri": "https://localhost:8080/"
        },
        "id": "dBp7suJaVeg8",
        "outputId": "a28c4990-a1ec-4432-a076-5fc5a3e8022f"
      },
      "execution_count": 33,
      "outputs": [
        {
          "output_type": "execute_result",
          "data": {
            "text/plain": [
              "([<KerasTensor: shape=(None, 1) dtype=int64 (created by layer 'balance')>,\n",
              "  <KerasTensor: shape=(None, 1) dtype=int64 (created by layer 'duration')>,\n",
              "  <KerasTensor: shape=(None, 1) dtype=string (created by layer 'job')>,\n",
              "  <KerasTensor: shape=(None, 1) dtype=string (created by layer 'marital')>,\n",
              "  <KerasTensor: shape=(None, 1) dtype=string (created by layer 'education')>,\n",
              "  <KerasTensor: shape=(None, 1) dtype=string (created by layer 'housing')>,\n",
              "  <KerasTensor: shape=(None, 1) dtype=string (created by layer 'loan')>,\n",
              "  <KerasTensor: shape=(None, 1) dtype=string (created by layer 'month')>,\n",
              "  <KerasTensor: shape=(None, 1) dtype=int64 (created by layer 'age')>],\n",
              " [<KerasTensor: shape=(None, 1) dtype=float32 (created by layer 'normalization_1')>,\n",
              "  <KerasTensor: shape=(None, 1) dtype=float32 (created by layer 'normalization_2')>,\n",
              "  <KerasTensor: shape=(None, 13) dtype=float32 (created by layer 'category_encoding_1')>,\n",
              "  <KerasTensor: shape=(None, 4) dtype=float32 (created by layer 'category_encoding_2')>,\n",
              "  <KerasTensor: shape=(None, 5) dtype=float32 (created by layer 'category_encoding_3')>,\n",
              "  <KerasTensor: shape=(None, 3) dtype=float32 (created by layer 'category_encoding_4')>,\n",
              "  <KerasTensor: shape=(None, 3) dtype=float32 (created by layer 'category_encoding_5')>,\n",
              "  <KerasTensor: shape=(None, 13) dtype=float32 (created by layer 'category_encoding_6')>,\n",
              "  <KerasTensor: shape=(None, 78) dtype=float32 (created by layer 'category_encoding_7')>])"
            ]
          },
          "metadata": {},
          "execution_count": 33
        }
      ]
    },
    {
      "cell_type": "markdown",
      "source": [
        "##Model"
      ],
      "metadata": {
        "id": "0w9VerxWVw43"
      }
    },
    {
      "cell_type": "code",
      "source": [
        "all_features = tf.keras.layers.concatenate(all_preprocessors)\n",
        "x = tf.keras.layers.Dense(16, activation=tf.keras.activations.relu, kernel_regularizer=tf.keras.regularizers.L2(0.0001))(all_features)\n",
        "x = tf.keras.layers.Dropout(0.5)(x)\n",
        "x = tf.keras.layers.Dense(16, activation=tf.keras.activations.relu, kernel_regularizer=tf.keras.regularizers.L2(0.0001))(x)\n",
        "x = tf.keras.layers.Dropout(0.5)(x)\n",
        "x = tf.keras.layers.Dense(16, activation=tf.keras.activations.relu, kernel_regularizer=tf.keras.regularizers.L2(0.0001))(x)\n",
        "x = tf.keras.layers.Dropout(0.5)(x)\n",
        "output = tf.keras.layers.Dense(1, activation=tf.keras.activations.sigmoid)(x)\n",
        "\n",
        "model = tf.keras.Model(all_inputs, output)"
      ],
      "metadata": {
        "id": "Kq0jZyrzVwJT"
      },
      "execution_count": 34,
      "outputs": []
    },
    {
      "cell_type": "code",
      "source": [
        "tf.keras.utils.plot_model(model, show_shapes=True, rankdir=\"LR\")"
      ],
      "metadata": {
        "colab": {
          "base_uri": "https://localhost:8080/",
          "height": 697
        },
        "id": "yOHa8_s5d49g",
        "outputId": "bebff137-0940-4537-a1d9-2840e9e18194"
      },
      "execution_count": 35,
      "outputs": [
        {
          "output_type": "execute_result",
          "data": {
            "text/plain": [
              "<IPython.core.display.Image object>"
            ],
            "image/png": "[encoded data removed]"
          },
          "metadata": {},
          "execution_count": 35
        }
      ]
    },
    {
      "cell_type": "code",
      "source": [
        "METRICS = [\n",
        "      tf.keras.metrics.TruePositives(name='tp'),\n",
        "      tf.keras.metrics.FalsePositives(name='fp'),\n",
        "      tf.keras.metrics.TrueNegatives(name='tn'),\n",
        "      tf.keras.metrics.FalseNegatives(name='fn'), \n",
        "      tf.keras.metrics.BinaryAccuracy(name='accuracy'),\n",
        "      tf.keras.metrics.Precision(name='precision'),\n",
        "      tf.keras.metrics.Recall(name='recall'),\n",
        "      tf.keras.metrics.AUC(name='auc'),\n",
        "      tf.keras.metrics.AUC(name='prc', curve='PR'), # precision-recall curve\n",
        "]\n",
        "model.compile(optimizer=tf.keras.optimizers.Adam(),\n",
        "              loss=tf.keras.losses.BinaryCrossentropy(),\n",
        "              metrics=METRICS)"
      ],
      "metadata": {
        "id": "8ohLUpvQdMsH"
      },
      "execution_count": 36,
      "outputs": []
    },
    {
      "cell_type": "code",
      "source": [
        "es_loss = tf.keras.callbacks.EarlyStopping(monitor='loss', patience=5)\n",
        "es_val_loss = tf.keras.callbacks.EarlyStopping(monitor='val_loss', patience=5)\n",
        "history = model.fit(train_ds, epochs=100, validation_data=val_ds, callbacks=[es_loss, es_val_loss])"
      ],
      "metadata": {
        "colab": {
          "base_uri": "https://localhost:8080/"
        },
        "id": "3XgJ1yhqeOMb",
        "outputId": "8042b48f-85f0-4559-cc00-e3f381a63541"
      },
      "execution_count": 37,
      "outputs": [
        {
          "output_type": "stream",
          "name": "stdout",
          "text": [
            "Epoch 1/100\n",
            "2565/2565 [==============================] - 48s 16ms/step - loss: 0.4882 - tp: 139956.0000 - fp: 43447.0000 - tn: 116338.0000 - fn: 28524.0000 - accuracy: 0.7808 - precision: 0.7631 - recall: 0.8307 - auc: 0.8537 - prc: 0.8387 - val_loss: 1.4269 - val_tp: 45150.0000 - val_fp: 41364.0000 - val_tn: 6426.0000 - val_fn: 84.0000 - val_accuracy: 0.5544 - val_precision: 0.5219 - val_recall: 0.9981 - val_auc: 0.8723 - val_prc: 0.8339\n",
            "Epoch 2/100\n",
            "2565/2565 [==============================] - 56s 22ms/step - loss: 0.4437 - tp: 146761.0000 - fp: 40216.0000 - tn: 119569.0000 - fn: 21719.0000 - accuracy: 0.8113 - precision: 0.7849 - recall: 0.8711 - auc: 0.8781 - prc: 0.8535 - val_loss: 1.0446 - val_tp: 45024.0000 - val_fp: 36726.0000 - val_tn: 11064.0000 - val_fn: 210.0000 - val_accuracy: 0.6029 - val_precision: 0.5508 - val_recall: 0.9954 - val_auc: 0.8807 - val_prc: 0.8505\n",
            "Epoch 3/100\n",
            "2565/2565 [==============================] - 41s 16ms/step - loss: 0.4366 - tp: 146965.0000 - fp: 39331.0000 - tn: 120454.0000 - fn: 21515.0000 - accuracy: 0.8146 - precision: 0.7889 - recall: 0.8723 - auc: 0.8809 - prc: 0.8559 - val_loss: 1.0258 - val_tp: 44982.0000 - val_fp: 34950.0000 - val_tn: 12840.0000 - val_fn: 252.0000 - val_accuracy: 0.6216 - val_precision: 0.5628 - val_recall: 0.9944 - val_auc: 0.8806 - val_prc: 0.8505\n",
            "Epoch 4/100\n",
            "2565/2565 [==============================] - 44s 17ms/step - loss: 0.4327 - tp: 146770.0000 - fp: 38754.0000 - tn: 121031.0000 - fn: 21710.0000 - accuracy: 0.8158 - precision: 0.7911 - recall: 0.8711 - auc: 0.8827 - prc: 0.8585 - val_loss: 1.0573 - val_tp: 44898.0000 - val_fp: 34260.0000 - val_tn: 13530.0000 - val_fn: 336.0000 - val_accuracy: 0.6281 - val_precision: 0.5672 - val_recall: 0.9926 - val_auc: 0.8818 - val_prc: 0.8493\n",
            "Epoch 5/100\n",
            "2565/2565 [==============================] - 41s 16ms/step - loss: 0.4317 - tp: 146697.0000 - fp: 38555.0000 - tn: 121230.0000 - fn: 21783.0000 - accuracy: 0.8162 - precision: 0.7919 - recall: 0.8707 - auc: 0.8828 - prc: 0.8565 - val_loss: 0.9297 - val_tp: 44814.0000 - val_fp: 31944.0000 - val_tn: 15846.0000 - val_fn: 420.0000 - val_accuracy: 0.6521 - val_precision: 0.5838 - val_recall: 0.9907 - val_auc: 0.8820 - val_prc: 0.8521\n",
            "Epoch 6/100\n",
            "2565/2565 [==============================] - 43s 17ms/step - loss: 0.4264 - tp: 146428.0000 - fp: 37735.0000 - tn: 122050.0000 - fn: 22052.0000 - accuracy: 0.8179 - precision: 0.7951 - recall: 0.8691 - auc: 0.8853 - prc: 0.8619 - val_loss: 1.0939 - val_tp: 44856.0000 - val_fp: 33882.0000 - val_tn: 13908.0000 - val_fn: 378.0000 - val_accuracy: 0.6317 - val_precision: 0.5697 - val_recall: 0.9916 - val_auc: 0.8808 - val_prc: 0.8481\n",
            "Epoch 7/100\n",
            "2565/2565 [==============================] - 41s 16ms/step - loss: 0.4275 - tp: 146040.0000 - fp: 37816.0000 - tn: 121969.0000 - fn: 22440.0000 - accuracy: 0.8164 - precision: 0.7943 - recall: 0.8668 - auc: 0.8846 - prc: 0.8589 - val_loss: 0.9716 - val_tp: 44646.0000 - val_fp: 30972.0000 - val_tn: 16818.0000 - val_fn: 588.0000 - val_accuracy: 0.6607 - val_precision: 0.5904 - val_recall: 0.9870 - val_auc: 0.8822 - val_prc: 0.8499\n",
            "Epoch 8/100\n",
            "2565/2565 [==============================] - 43s 17ms/step - loss: 0.4255 - tp: 146082.0000 - fp: 37491.0000 - tn: 122294.0000 - fn: 22398.0000 - accuracy: 0.8176 - precision: 0.7958 - recall: 0.8671 - auc: 0.8855 - prc: 0.8609 - val_loss: 0.9872 - val_tp: 44604.0000 - val_fp: 30564.0000 - val_tn: 17226.0000 - val_fn: 630.0000 - val_accuracy: 0.6647 - val_precision: 0.5934 - val_recall: 0.9861 - val_auc: 0.8810 - val_prc: 0.8492\n",
            "Epoch 9/100\n",
            "2565/2565 [==============================] - 41s 16ms/step - loss: 0.4248 - tp: 146003.0000 - fp: 37478.0000 - tn: 122307.0000 - fn: 22477.0000 - accuracy: 0.8174 - precision: 0.7957 - recall: 0.8666 - auc: 0.8857 - prc: 0.8613 - val_loss: 1.0054 - val_tp: 44646.0000 - val_fp: 30690.0000 - val_tn: 17100.0000 - val_fn: 588.0000 - val_accuracy: 0.6638 - val_precision: 0.5926 - val_recall: 0.9870 - val_auc: 0.8813 - val_prc: 0.8484\n",
            "Epoch 10/100\n",
            "2565/2565 [==============================] - 43s 17ms/step - loss: 0.4238 - tp: 145983.0000 - fp: 37231.0000 - tn: 122554.0000 - fn: 22497.0000 - accuracy: 0.8180 - precision: 0.7968 - recall: 0.8665 - auc: 0.8864 - prc: 0.8613 - val_loss: 1.0036 - val_tp: 44646.0000 - val_fp: 30048.0000 - val_tn: 17742.0000 - val_fn: 588.0000 - val_accuracy: 0.6707 - val_precision: 0.5977 - val_recall: 0.9870 - val_auc: 0.8821 - val_prc: 0.8502\n"
          ]
        }
      ]
    },
    {
      "cell_type": "code",
      "source": [
        "metric = ['loss', 'accuracy', 'prc', 'precision', 'recall']\n",
        "plot_metric(3,2, history, metric)"
      ],
      "metadata": {
        "id": "Gs-9MpCvtnP9",
        "outputId": "0ee64092-2d70-4ded-f978-bda14947e257",
        "colab": {
          "base_uri": "https://localhost:8080/",
          "height": 606
        }
      },
      "execution_count": 38,
      "outputs": [
        {
          "output_type": "display_data",
          "data": {
            "text/plain": [
              "<Figure size 1080x720 with 6 Axes>"
            ],
            "image/png": "[encoded data removed]"
          },
          "metadata": {
            "needs_background": "light"
          }
        }
      ]
    },
    {
      "cell_type": "code",
      "source": [
        "predict_test = model.predict(test_ds)\n",
        "test_ds_unbach = test_ds.unbatch()\n",
        "label_test = [i[1] for i in list(test_ds_unbach.as_numpy_iterator())]\n"
      ],
      "metadata": {
        "id": "PvuHBMGFwg6T"
      },
      "execution_count": 39,
      "outputs": []
    },
    {
      "cell_type": "code",
      "source": [
        "model_evaluate = model.evaluate(test_ds)\n",
        "for name_metric, value_evaluate in zip(model.metrics_names, model_evaluate):\n",
        "  print(name_metric, ': ', value_evaluate)\n",
        "\n",
        "plot_confution_matrix(label_test, predict_test)"
      ],
      "metadata": {
        "id": "tl8vJBCmpgtJ",
        "colab": {
          "base_uri": "https://localhost:8080/",
          "height": 648
        },
        "outputId": "a62160d4-d32e-4fd2-cb16-4e79ad1474ea"
      },
      "execution_count": 40,
      "outputs": [
        {
          "output_type": "stream",
          "name": "stdout",
          "text": [
            "36/36 [==============================] - 0s 8ms/step - loss: 1.7180 - tp: 517.0000 - fp: 2563.0000 - tn: 1437.0000 - fn: 4.0000 - accuracy: 0.4322 - precision: 0.1679 - recall: 0.9923 - auc: 0.8863 - prc: 0.4562\n",
            "loss :  1.7179608345031738\n",
            "tp :  517.0\n",
            "fp :  2563.0\n",
            "tn :  1437.0\n",
            "fn :  4.0\n",
            "accuracy :  0.4322052597999573\n",
            "precision :  0.16785714030265808\n",
            "recall :  0.9923224449157715\n",
            "auc :  0.8863099813461304\n",
            "prc :  0.4562319219112396\n",
            "Legitimate Transactions Detected (True Negatives):  1437\n",
            "Legitimate Transactions Incorrectly Detected (False Positives):  2563\n",
            "Fraudulent Transactions Missed (False Negatives):  4\n",
            "Fraudulent Transactions Detected (True Positives):  517\n",
            "Total Fraudulent Transactions:  521\n"
          ]
        },
        {
          "output_type": "display_data",
          "data": {
            "text/plain": [
              "<Figure size 360x360 with 2 Axes>"
            ],
            "image/png": "[encoded data removed]"
          },
          "metadata": {
            "needs_background": "light"
          }
        }
      ]
    },
    {
      "cell_type": "code",
      "source": [
        "dataset_test.sort_values(by=[\"target\"], ascending=True).head()"
      ],
      "metadata": {
        "id": "QImhllBHu2zd",
        "colab": {
          "base_uri": "https://localhost:8080/",
          "height": 206
        },
        "outputId": "dcb200a8-55f2-4269-fc73-c68a10625ddc"
      },
      "execution_count": 41,
      "outputs": [
        {
          "output_type": "execute_result",
          "data": {
            "text/plain": [
              "      age         job  marital  education  balance housing loan month  \\\n",
              "0      30  unemployed  married    primary     1787      no   no   oct   \n",
              "2906   34  management   single   tertiary        0      no   no   aug   \n",
              "2907   44  technician  married   tertiary     1707      no   no   aug   \n",
              "2908   35  technician  married  secondary    13658     yes   no   dec   \n",
              "2909   39      admin.  married  secondary      406      no   no   jul   \n",
              "\n",
              "      duration  target  \n",
              "0           79       0  \n",
              "2906       191       0  \n",
              "2907       406       0  \n",
              "2908       220       0  \n",
              "2909       253       0  "
            ],
            "text/html": [
              "\n",
              "  <div id=\"df-d0d17656-d1ea-42d2-8bc2-13a339a7d3dd\">\n",
              "    <div class=\"colab-df-container\">\n",
              "      <div>\n",
              "<style scoped>\n",
              "    .dataframe tbody tr th:only-of-type {\n",
              "        vertical-align: middle;\n",
              "    }\n",
              "\n",
              "    .dataframe tbody tr th {\n",
              "        vertical-align: top;\n",
              "    }\n",
              "\n",
              "    .dataframe thead th {\n",
              "        text-align: right;\n",
              "    }\n",
              "</style>\n",
              "<table border=\"1\" class=\"dataframe\">\n",
              "  <thead>\n",
              "    <tr style=\"text-align: right;\">\n",
              "      <th></th>\n",
              "      <th>age</th>\n",
              "      <th>job</th>\n",
              "      <th>marital</th>\n",
              "      <th>education</th>\n",
              "      <th>balance</th>\n",
              "      <th>housing</th>\n",
              "      <th>loan</th>\n",
              "      <th>month</th>\n",
              "      <th>duration</th>\n",
              "      <th>target</th>\n",
              "    </tr>\n",
              "  </thead>\n",
              "  <tbody>\n",
              "    <tr>\n",
              "      <th>0</th>\n",
              "      <td>30</td>\n",
              "      <td>unemployed</td>\n",
              "      <td>married</td>\n",
              "      <td>primary</td>\n",
              "      <td>1787</td>\n",
              "      <td>no</td>\n",
              "      <td>no</td>\n",
              "      <td>oct</td>\n",
              "      <td>79</td>\n",
              "      <td>0</td>\n",
              "    </tr>\n",
              "    <tr>\n",
              "      <th>2906</th>\n",
              "      <td>34</td>\n",
              "      <td>management</td>\n",
              "      <td>single</td>\n",
              "      <td>tertiary</td>\n",
              "      <td>0</td>\n",
              "      <td>no</td>\n",
              "      <td>no</td>\n",
              "      <td>aug</td>\n",
              "      <td>191</td>\n",
              "      <td>0</td>\n",
              "    </tr>\n",
              "    <tr>\n",
              "      <th>2907</th>\n",
              "      <td>44</td>\n",
              "      <td>technician</td>\n",
              "      <td>married</td>\n",
              "      <td>tertiary</td>\n",
              "      <td>1707</td>\n",
              "      <td>no</td>\n",
              "      <td>no</td>\n",
              "      <td>aug</td>\n",
              "      <td>406</td>\n",
              "      <td>0</td>\n",
              "    </tr>\n",
              "    <tr>\n",
              "      <th>2908</th>\n",
              "      <td>35</td>\n",
              "      <td>technician</td>\n",
              "      <td>married</td>\n",
              "      <td>secondary</td>\n",
              "      <td>13658</td>\n",
              "      <td>yes</td>\n",
              "      <td>no</td>\n",
              "      <td>dec</td>\n",
              "      <td>220</td>\n",
              "      <td>0</td>\n",
              "    </tr>\n",
              "    <tr>\n",
              "      <th>2909</th>\n",
              "      <td>39</td>\n",
              "      <td>admin.</td>\n",
              "      <td>married</td>\n",
              "      <td>secondary</td>\n",
              "      <td>406</td>\n",
              "      <td>no</td>\n",
              "      <td>no</td>\n",
              "      <td>jul</td>\n",
              "      <td>253</td>\n",
              "      <td>0</td>\n",
              "    </tr>\n",
              "  </tbody>\n",
              "</table>\n",
              "</div>\n",
              "      <button class=\"colab-df-convert\" onclick=\"convertToInteractive('df-d0d17656-d1ea-42d2-8bc2-13a339a7d3dd')\"\n",
              "              title=\"Convert this dataframe to an interactive table.\"\n",
              "              style=\"display:none;\">\n",
              "        \n",
              "  <svg xmlns=\"http://www.w3.org/2000/svg\" height=\"24px\"viewBox=\"0 0 24 24\"\n",
              "       width=\"24px\">\n",
              "    <path d=\"M0 0h24v24H0V0z\" fill=\"none\"/>\n",
              "    <path d=\"M18.56 5.44l.94 2.06.94-2.06 2.06-.94-2.06-.94-.94-2.06-.94 2.06-2.06.94zm-11 1L8.5 8.5l.94-2.06 2.06-.94-2.06-.94L8.5 2.5l-.94 2.06-2.06.94zm10 10l.94 2.06.94-2.06 2.06-.94-2.06-.94-.94-2.06-.94 2.06-2.06.94z\"/><path d=\"M17.41 7.96l-1.37-1.37c-.4-.4-.92-.59-1.43-.59-.52 0-1.04.2-1.43.59L10.3 9.45l-7.72 7.72c-.78.78-.78 2.05 0 2.83L4 21.41c.39.39.9.59 1.41.59.51 0 1.02-.2 1.41-.59l7.78-7.78 2.81-2.81c.8-.78.8-2.07 0-2.86zM5.41 20L4 18.59l7.72-7.72 1.47 1.35L5.41 20z\"/>\n",
              "  </svg>\n",
              "      </button>\n",
              "      \n",
              "  <style>\n",
              "    .colab-df-container {\n",
              "      display:flex;\n",
              "      flex-wrap:wrap;\n",
              "      gap: 12px;\n",
              "    }\n",
              "\n",
              "    .colab-df-convert {\n",
              "      background-color: #E8F0FE;\n",
              "      border: none;\n",
              "      border-radius: 50%;\n",
              "      cursor: pointer;\n",
              "      display: none;\n",
              "      fill: #1967D2;\n",
              "      height: 32px;\n",
              "      padding: 0 0 0 0;\n",
              "      width: 32px;\n",
              "    }\n",
              "\n",
              "    .colab-df-convert:hover {\n",
              "      background-color: #E2EBFA;\n",
              "      box-shadow: 0px 1px 2px rgba(60, 64, 67, 0.3), 0px 1px 3px 1px rgba(60, 64, 67, 0.15);\n",
              "      fill: #174EA6;\n",
              "    }\n",
              "\n",
              "    [theme=dark] .colab-df-convert {\n",
              "      background-color: #3B4455;\n",
              "      fill: #D2E3FC;\n",
              "    }\n",
              "\n",
              "    [theme=dark] .colab-df-convert:hover {\n",
              "      background-color: #434B5C;\n",
              "      box-shadow: 0px 1px 3px 1px rgba(0, 0, 0, 0.15);\n",
              "      filter: drop-shadow(0px 1px 2px rgba(0, 0, 0, 0.3));\n",
              "      fill: #FFFFFF;\n",
              "    }\n",
              "  </style>\n",
              "\n",
              "      <script>\n",
              "        const buttonEl =\n",
              "          document.querySelector('#df-d0d17656-d1ea-42d2-8bc2-13a339a7d3dd button.colab-df-convert');\n",
              "        buttonEl.style.display =\n",
              "          google.colab.kernel.accessAllowed ? 'block' : 'none';\n",
              "\n",
              "        async function convertToInteractive(key) {\n",
              "          const element = document.querySelector('#df-d0d17656-d1ea-42d2-8bc2-13a339a7d3dd');\n",
              "          const dataTable =\n",
              "            await google.colab.kernel.invokeFunction('convertToInteractive',\n",
              "                                                     [key], {});\n",
              "          if (!dataTable) return;\n",
              "\n",
              "          const docLinkHtml = 'Like what you see? Visit the ' +\n",
              "            '<a target=\"_blank\" href=https://colab.research.google.com/notebooks/data_table.ipynb>data table notebook</a>'\n",
              "            + ' to learn more about interactive tables.';\n",
              "          element.innerHTML = '';\n",
              "          dataTable['output_type'] = 'display_data';\n",
              "          await google.colab.output.renderOutput(dataTable, element);\n",
              "          const docLink = document.createElement('div');\n",
              "          docLink.innerHTML = docLinkHtml;\n",
              "          element.appendChild(docLink);\n",
              "        }\n",
              "      </script>\n",
              "    </div>\n",
              "  </div>\n",
              "  "
            ]
          },
          "metadata": {},
          "execution_count": 41
        }
      ]
    },
    {
      "cell_type": "code",
      "source": [
        "sample = {\n",
        "    'age': 35,\n",
        "    'job': 'technician',\n",
        "    'marital': 'married',\n",
        "    'education': 'tertiary',\n",
        "    'balance': 1707,\n",
        "    'housing': 'no',\n",
        "    'loan': 'no',\n",
        "    'month': 'aug',\n",
        "    'duration': 406\n",
        "}\n",
        "\n",
        "input_dict = {name: tf.convert_to_tensor([value]) for name, value in sample.items()}\n",
        "predictions = model.predict(input_dict)\n",
        "\n",
        "print(\n",
        "    f\"Probabilitas untuk berlangganan deposito berjangka adalah {round(100 * predictions[0][0], 2)} % \"\n",
        "    f\"untuk setuju\"\n",
        ")"
      ],
      "metadata": {
        "id": "EZ8ZzX-X3PgX",
        "colab": {
          "base_uri": "https://localhost:8080/"
        },
        "outputId": "4135db14-52b2-4f7e-ef8e-852a95ec0548"
      },
      "execution_count": 42,
      "outputs": [
        {
          "output_type": "stream",
          "name": "stdout",
          "text": [
            "Probabilitas untuk berlangganan deposito berjangka adalah 97.87 % untuk setuju\n"
          ]
        }
      ]
    }
  ]
}